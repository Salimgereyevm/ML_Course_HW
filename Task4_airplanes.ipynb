{
  "nbformat": 4,
  "nbformat_minor": 0,
  "metadata": {
    "colab": {
      "name": "Task4-airplanes.ipynb",
      "provenance": [],
      "collapsed_sections": []
    },
    "kernelspec": {
      "name": "python3",
      "display_name": "Python 3"
    }
  },
  "cells": [
    {
      "cell_type": "markdown",
      "metadata": {
        "id": "FPbs-PZQhuOw",
        "colab_type": "text"
      },
      "source": [
        "**Исследование задержек для аэропортов Нью-Йорка (JFK, LGA, EWR)**"
      ]
    },
    {
      "cell_type": "markdown",
      "metadata": {
        "id": "-WGHBqdZMW77",
        "colab_type": "text"
      },
      "source": [
        "Всюду далее положительной задержкой будет называться положительная в математическом смысле задержка.    "
      ]
    },
    {
      "cell_type": "code",
      "metadata": {
        "id": "SsC3culribdQ",
        "colab_type": "code",
        "outputId": "fa359e66-0f56-4d31-b196-eddc003f870d",
        "colab": {
          "base_uri": "https://localhost:8080/",
          "height": 142
        }
      },
      "source": [
        "import pandas as pd\n",
        "import numpy as np\n",
        "import matplotlib.pyplot as plt\n",
        "url1 = ('https://raw.githubusercontent.com/vaibhavwalvekar/NYC-Flights-2013-Dataset-Analysis/master/flights.csv')\n",
        "url2 = ('https://raw.githubusercontent.com/vaibhavwalvekar/NYC-Flights-2013-Dataset-Analysis/master/weather.csv')\n",
        "flights = pd.read_csv(url1, sep=',')\n",
        "weather =  pd.read_csv(url2, sep=',')\n",
        "flights.head(3)"
      ],
      "execution_count": 125,
      "outputs": [
        {
          "output_type": "execute_result",
          "data": {
            "text/html": [
              "<div>\n",
              "<style scoped>\n",
              "    .dataframe tbody tr th:only-of-type {\n",
              "        vertical-align: middle;\n",
              "    }\n",
              "\n",
              "    .dataframe tbody tr th {\n",
              "        vertical-align: top;\n",
              "    }\n",
              "\n",
              "    .dataframe thead th {\n",
              "        text-align: right;\n",
              "    }\n",
              "</style>\n",
              "<table border=\"1\" class=\"dataframe\">\n",
              "  <thead>\n",
              "    <tr style=\"text-align: right;\">\n",
              "      <th></th>\n",
              "      <th>Unnamed: 0</th>\n",
              "      <th>year</th>\n",
              "      <th>month</th>\n",
              "      <th>day</th>\n",
              "      <th>dep_time</th>\n",
              "      <th>dep_delay</th>\n",
              "      <th>arr_time</th>\n",
              "      <th>arr_delay</th>\n",
              "      <th>carrier</th>\n",
              "      <th>tailnum</th>\n",
              "      <th>flight</th>\n",
              "      <th>origin</th>\n",
              "      <th>dest</th>\n",
              "      <th>air_time</th>\n",
              "      <th>distance</th>\n",
              "      <th>hour</th>\n",
              "      <th>minute</th>\n",
              "    </tr>\n",
              "  </thead>\n",
              "  <tbody>\n",
              "    <tr>\n",
              "      <th>0</th>\n",
              "      <td>1</td>\n",
              "      <td>2013</td>\n",
              "      <td>1</td>\n",
              "      <td>1</td>\n",
              "      <td>517.0</td>\n",
              "      <td>2.0</td>\n",
              "      <td>830.0</td>\n",
              "      <td>11.0</td>\n",
              "      <td>UA</td>\n",
              "      <td>N14228</td>\n",
              "      <td>1545</td>\n",
              "      <td>EWR</td>\n",
              "      <td>IAH</td>\n",
              "      <td>227.0</td>\n",
              "      <td>1400</td>\n",
              "      <td>5.0</td>\n",
              "      <td>17.0</td>\n",
              "    </tr>\n",
              "    <tr>\n",
              "      <th>1</th>\n",
              "      <td>2</td>\n",
              "      <td>2013</td>\n",
              "      <td>1</td>\n",
              "      <td>1</td>\n",
              "      <td>533.0</td>\n",
              "      <td>4.0</td>\n",
              "      <td>850.0</td>\n",
              "      <td>20.0</td>\n",
              "      <td>UA</td>\n",
              "      <td>N24211</td>\n",
              "      <td>1714</td>\n",
              "      <td>LGA</td>\n",
              "      <td>IAH</td>\n",
              "      <td>227.0</td>\n",
              "      <td>1416</td>\n",
              "      <td>5.0</td>\n",
              "      <td>33.0</td>\n",
              "    </tr>\n",
              "    <tr>\n",
              "      <th>2</th>\n",
              "      <td>3</td>\n",
              "      <td>2013</td>\n",
              "      <td>1</td>\n",
              "      <td>1</td>\n",
              "      <td>542.0</td>\n",
              "      <td>2.0</td>\n",
              "      <td>923.0</td>\n",
              "      <td>33.0</td>\n",
              "      <td>AA</td>\n",
              "      <td>N619AA</td>\n",
              "      <td>1141</td>\n",
              "      <td>JFK</td>\n",
              "      <td>MIA</td>\n",
              "      <td>160.0</td>\n",
              "      <td>1089</td>\n",
              "      <td>5.0</td>\n",
              "      <td>42.0</td>\n",
              "    </tr>\n",
              "  </tbody>\n",
              "</table>\n",
              "</div>"
            ],
            "text/plain": [
              "   Unnamed: 0  year  month  day  ...  air_time  distance  hour  minute\n",
              "0           1  2013      1    1  ...     227.0      1400   5.0    17.0\n",
              "1           2  2013      1    1  ...     227.0      1416   5.0    33.0\n",
              "2           3  2013      1    1  ...     160.0      1089   5.0    42.0\n",
              "\n",
              "[3 rows x 17 columns]"
            ]
          },
          "metadata": {
            "tags": []
          },
          "execution_count": 125
        }
      ]
    },
    {
      "cell_type": "code",
      "metadata": {
        "id": "_sShASF7i3yH",
        "colab_type": "code",
        "outputId": "cc0dd242-27cb-4555-dcc3-973680da09b7",
        "colab": {
          "base_uri": "https://localhost:8080/",
          "height": 142
        }
      },
      "source": [
        "weather.head(3)"
      ],
      "execution_count": 126,
      "outputs": [
        {
          "output_type": "execute_result",
          "data": {
            "text/html": [
              "<div>\n",
              "<style scoped>\n",
              "    .dataframe tbody tr th:only-of-type {\n",
              "        vertical-align: middle;\n",
              "    }\n",
              "\n",
              "    .dataframe tbody tr th {\n",
              "        vertical-align: top;\n",
              "    }\n",
              "\n",
              "    .dataframe thead th {\n",
              "        text-align: right;\n",
              "    }\n",
              "</style>\n",
              "<table border=\"1\" class=\"dataframe\">\n",
              "  <thead>\n",
              "    <tr style=\"text-align: right;\">\n",
              "      <th></th>\n",
              "      <th>Unnamed: 0</th>\n",
              "      <th>origin</th>\n",
              "      <th>year</th>\n",
              "      <th>month</th>\n",
              "      <th>day</th>\n",
              "      <th>hour</th>\n",
              "      <th>temp</th>\n",
              "      <th>dewp</th>\n",
              "      <th>humid</th>\n",
              "      <th>wind_dir</th>\n",
              "      <th>wind_speed</th>\n",
              "      <th>wind_gust</th>\n",
              "      <th>precip</th>\n",
              "      <th>pressure</th>\n",
              "      <th>visib</th>\n",
              "    </tr>\n",
              "  </thead>\n",
              "  <tbody>\n",
              "    <tr>\n",
              "      <th>0</th>\n",
              "      <td>1</td>\n",
              "      <td>EWR</td>\n",
              "      <td>2013</td>\n",
              "      <td>1.0</td>\n",
              "      <td>1.0</td>\n",
              "      <td>0.0</td>\n",
              "      <td>37.04</td>\n",
              "      <td>21.92</td>\n",
              "      <td>53.97</td>\n",
              "      <td>230.0</td>\n",
              "      <td>10.35702</td>\n",
              "      <td>11.918651</td>\n",
              "      <td>0.0</td>\n",
              "      <td>1013.9</td>\n",
              "      <td>10.0</td>\n",
              "    </tr>\n",
              "    <tr>\n",
              "      <th>1</th>\n",
              "      <td>2</td>\n",
              "      <td>EWR</td>\n",
              "      <td>2013</td>\n",
              "      <td>1.0</td>\n",
              "      <td>1.0</td>\n",
              "      <td>1.0</td>\n",
              "      <td>37.04</td>\n",
              "      <td>21.92</td>\n",
              "      <td>53.97</td>\n",
              "      <td>230.0</td>\n",
              "      <td>13.80936</td>\n",
              "      <td>15.891535</td>\n",
              "      <td>0.0</td>\n",
              "      <td>1013.0</td>\n",
              "      <td>10.0</td>\n",
              "    </tr>\n",
              "    <tr>\n",
              "      <th>2</th>\n",
              "      <td>3</td>\n",
              "      <td>EWR</td>\n",
              "      <td>2013</td>\n",
              "      <td>1.0</td>\n",
              "      <td>1.0</td>\n",
              "      <td>2.0</td>\n",
              "      <td>37.94</td>\n",
              "      <td>21.92</td>\n",
              "      <td>52.09</td>\n",
              "      <td>230.0</td>\n",
              "      <td>12.65858</td>\n",
              "      <td>14.567241</td>\n",
              "      <td>0.0</td>\n",
              "      <td>1012.6</td>\n",
              "      <td>10.0</td>\n",
              "    </tr>\n",
              "  </tbody>\n",
              "</table>\n",
              "</div>"
            ],
            "text/plain": [
              "   Unnamed: 0 origin  year  month  ...  wind_gust  precip  pressure  visib\n",
              "0           1    EWR  2013    1.0  ...  11.918651     0.0    1013.9   10.0\n",
              "1           2    EWR  2013    1.0  ...  15.891535     0.0    1013.0   10.0\n",
              "2           3    EWR  2013    1.0  ...  14.567241     0.0    1012.6   10.0\n",
              "\n",
              "[3 rows x 15 columns]"
            ]
          },
          "metadata": {
            "tags": []
          },
          "execution_count": 126
        }
      ]
    },
    {
      "cell_type": "markdown",
      "metadata": {
        "id": "dBXOVXxZji1H",
        "colab_type": "text"
      },
      "source": [
        "Для начала узнаем общее количество вылетов из аэропортов:"
      ]
    },
    {
      "cell_type": "code",
      "metadata": {
        "id": "P2197iQHjKzm",
        "colab_type": "code",
        "outputId": "a44f123a-1097-4af8-a4fd-f8f2b94a2ee1",
        "colab": {
          "base_uri": "https://localhost:8080/",
          "height": 85
        }
      },
      "source": [
        "flights.origin.value_counts()"
      ],
      "execution_count": 127,
      "outputs": [
        {
          "output_type": "execute_result",
          "data": {
            "text/plain": [
              "EWR    120835\n",
              "JFK    111279\n",
              "LGA    104662\n",
              "Name: origin, dtype: int64"
            ]
          },
          "metadata": {
            "tags": []
          },
          "execution_count": 127
        }
      ]
    },
    {
      "cell_type": "markdown",
      "metadata": {
        "id": "qPDEgq4Sn02H",
        "colab_type": "text"
      },
      "source": [
        "И среднюю задержку по каждому из них:"
      ]
    },
    {
      "cell_type": "code",
      "metadata": {
        "id": "a4N04oiUkv-3",
        "colab_type": "code",
        "outputId": "fbc8f068-5353-4ba9-eae8-b073ca55778f",
        "colab": {
          "base_uri": "https://localhost:8080/",
          "height": 102
        }
      },
      "source": [
        "flights.groupby('origin').mean()['dep_delay']"
      ],
      "execution_count": 128,
      "outputs": [
        {
          "output_type": "execute_result",
          "data": {
            "text/plain": [
              "origin\n",
              "EWR    15.107954\n",
              "JFK    12.112159\n",
              "LGA    10.346876\n",
              "Name: dep_delay, dtype: float64"
            ]
          },
          "metadata": {
            "tags": []
          },
          "execution_count": 128
        }
      ]
    },
    {
      "cell_type": "markdown",
      "metadata": {
        "id": "XaCzYGybqDD3",
        "colab_type": "text"
      },
      "source": [
        "Теперь посмотрим \"настоящую\" среднюю задержку, то есть среднюю задержку если она действительно была."
      ]
    },
    {
      "cell_type": "code",
      "metadata": {
        "id": "dZ08G0zrk9gS",
        "colab_type": "code",
        "outputId": "cabb0c87-d424-4c6f-a0a2-77e9dc23faa7",
        "colab": {
          "base_uri": "https://localhost:8080/",
          "height": 102
        }
      },
      "source": [
        "flights_delayed = flights[(flights.dep_delay > 0)]\n",
        "flights_delayed.groupby('origin').mean()['dep_delay']"
      ],
      "execution_count": 129,
      "outputs": [
        {
          "output_type": "execute_result",
          "data": {
            "text/plain": [
              "origin\n",
              "EWR    38.987915\n",
              "JFK    38.046775\n",
              "LGA    41.630959\n",
              "Name: dep_delay, dtype: float64"
            ]
          },
          "metadata": {
            "tags": []
          },
          "execution_count": 129
        }
      ]
    },
    {
      "cell_type": "markdown",
      "metadata": {
        "id": "8WtOiA-drGR6",
        "colab_type": "text"
      },
      "source": [
        "Видно, что они отличаются, так как случается и отрицательная задержка, то есть рейс вылетел раньше. Посмотрим теперь среднее ускорение если рейс все таки вылетел раньше"
      ]
    },
    {
      "cell_type": "code",
      "metadata": {
        "id": "ewekU6ZCqx0G",
        "colab_type": "code",
        "outputId": "a22cfb12-f517-45a9-8991-85bbbec4ecfa",
        "colab": {
          "base_uri": "https://localhost:8080/",
          "height": 102
        }
      },
      "source": [
        "flights_early = flights[(flights.dep_delay < 0)]\n",
        "flights_early.groupby('origin').mean()['dep_delay']"
      ],
      "execution_count": 130,
      "outputs": [
        {
          "output_type": "execute_result",
          "data": {
            "text/plain": [
              "origin\n",
              "EWR   -4.695734\n",
              "JFK   -4.479116\n",
              "LGA   -5.579781\n",
              "Name: dep_delay, dtype: float64"
            ]
          },
          "metadata": {
            "tags": []
          },
          "execution_count": 130
        }
      ]
    },
    {
      "cell_type": "markdown",
      "metadata": {
        "id": "TRP5ewHYrc_7",
        "colab_type": "text"
      },
      "source": [
        "Посмотрим теперь какой из аэропортов чаще всего задерживает рейс"
      ]
    },
    {
      "cell_type": "code",
      "metadata": {
        "id": "u01mHm42r1Pk",
        "colab_type": "code",
        "outputId": "d00f0923-03a6-4d90-f180-33bc715a35b4",
        "colab": {
          "base_uri": "https://localhost:8080/",
          "height": 85
        }
      },
      "source": [
        "flights_delayed.origin.value_counts()"
      ],
      "execution_count": 131,
      "outputs": [
        {
          "output_type": "execute_result",
          "data": {
            "text/plain": [
              "EWR    52711\n",
              "JFK    42031\n",
              "LGA    33690\n",
              "Name: origin, dtype: int64"
            ]
          },
          "metadata": {
            "tags": []
          },
          "execution_count": 131
        }
      ]
    },
    {
      "cell_type": "markdown",
      "metadata": {
        "id": "t_1BkxBJua7O",
        "colab_type": "text"
      },
      "source": [
        "Больше всего рейсов задержались в EWR "
      ]
    },
    {
      "cell_type": "markdown",
      "metadata": {
        "id": "IE7n2OVGvLIS",
        "colab_type": "text"
      },
      "source": [
        "Посмотрим как часто вообще происходят задержки для EWR и представим данные в виде диаграммы."
      ]
    },
    {
      "cell_type": "code",
      "metadata": {
        "id": "Kp0amq_7tq5_",
        "colab_type": "code",
        "outputId": "da55189c-068e-42cf-b029-1d22a2ff96a8",
        "colab": {
          "base_uri": "https://localhost:8080/",
          "height": 427
        }
      },
      "source": [
        "fl_del_ewr = flights[(flights.dep_delay < 0) & (flights.origin == 'EWR')]\n",
        "fl_fast_ewr = flights[(flights.dep_delay > 0) & (flights.origin == 'EWR')]\n",
        "fl_nodel_ewr = flights[(flights.dep_delay == 0) & (flights.origin == 'EWR')]\n",
        "plt.figure(figsize=(7,7))\n",
        "plt.pie([fl_del_ewr.origin.value_counts()[0],fl_nodel_ewr.origin.value_counts()[0],fl_fast_ewr.origin.value_counts()[0]], labels = ['Delay', 'No delay', 'Fast'])\n",
        "plt.title('Statistics of depatrure delays for EWR')\n",
        "plt.show()"
      ],
      "execution_count": 132,
      "outputs": [
        {
          "output_type": "display_data",
          "data": {
            "image/png": "[encoded data removed]",
            "text/plain": [
              "<Figure size 504x504 with 1 Axes>"
            ]
          },
          "metadata": {
            "tags": []
          }
        }
      ]
    },
    {
      "cell_type": "markdown",
      "metadata": {
        "id": "Ov9Z7EBKyn7h",
        "colab_type": "text"
      },
      "source": [
        "Видно, что рейсы почти не вылетают вовремя, что достаточно странно. При этом рейсов с задержкой примерно половина."
      ]
    },
    {
      "cell_type": "markdown",
      "metadata": {
        "id": "csRrAsyJ2FRu",
        "colab_type": "text"
      },
      "source": [
        "Определим среднее время положительной задержки по авиакомпаниям:"
      ]
    },
    {
      "cell_type": "code",
      "metadata": {
        "id": "FXIsXBqh2OMo",
        "colab_type": "code",
        "outputId": "a3fb4e13-556a-4973-f5d9-3e24e4796166",
        "colab": {
          "base_uri": "https://localhost:8080/",
          "height": 312
        }
      },
      "source": [
        "delays = flights_delayed.groupby('carrier').mean()['dep_delay']\n",
        "plt.bar(range(len(delays)), delays)\n",
        "plt.xticks(range(len(delays)), delays.index)\n",
        "plt.title('Delay depending on carrier')\n",
        "plt.xlabel('Carrier')\n",
        "plt.ylabel('Mean delay')"
      ],
      "execution_count": 133,
      "outputs": [
        {
          "output_type": "execute_result",
          "data": {
            "text/plain": [
              "Text(0, 0.5, 'Mean delay')"
            ]
          },
          "metadata": {
            "tags": []
          },
          "execution_count": 133
        },
        {
          "output_type": "display_data",
          "data": {
            "image/png": "[encoded data removed]",
            "text/plain": [
              "<Figure size 432x288 with 1 Axes>"
            ]
          },
          "metadata": {
            "tags": []
          }
        }
      ]
    },
    {
      "cell_type": "markdown",
      "metadata": {
        "id": "z7i3wPIV6Upq",
        "colab_type": "text"
      },
      "source": [
        "Самая длинная средняя задержка у авиакомпании ОО "
      ]
    },
    {
      "cell_type": "markdown",
      "metadata": {
        "id": "WDshD_nKNq7-",
        "colab_type": "text"
      },
      "source": [
        "Определим зависимость задержки от времени суток:"
      ]
    },
    {
      "cell_type": "code",
      "metadata": {
        "id": "yVCUKdUuNvFT",
        "colab_type": "code",
        "outputId": "39ff799b-1287-4567-ba87-08efb3e01a0d",
        "colab": {
          "base_uri": "https://localhost:8080/",
          "height": 295
        }
      },
      "source": [
        "flights_gr = pd.DataFrame(flights_delayed.groupby(flights_delayed.hour)['dep_delay'].mean().reset_index(name='mean_delay'))\n",
        "plt.scatter(flights_gr.hour, flights_gr.mean_delay)\n",
        "plt.xlim(0, 24)\n",
        "plt.ylabel('Mean time of delay')\n",
        "plt.xlabel('Hour')\n",
        "plt.title('Mean time of positive delay depending on hour')\n",
        "plt.show()"
      ],
      "execution_count": 134,
      "outputs": [
        {
          "output_type": "display_data",
          "data": {
            "image/png": "[encoded data removed]",
            "text/plain": [
              "<Figure size 432x288 with 1 Axes>"
            ]
          },
          "metadata": {
            "tags": []
          }
        }
      ]
    },
    {
      "cell_type": "markdown",
      "metadata": {
        "id": "Rg3b7HUQOedG",
        "colab_type": "text"
      },
      "source": [
        "Большая часть задержек происходит в ночное время"
      ]
    },
    {
      "cell_type": "markdown",
      "metadata": {
        "id": "ZntplFaH0Txq",
        "colab_type": "text"
      },
      "source": [
        "Определим зависимость средней положительной задержки от месяца: "
      ]
    },
    {
      "cell_type": "code",
      "metadata": {
        "id": "YtXgguLpyN1_",
        "colab_type": "code",
        "outputId": "76b7c19b-00ec-4e64-f3fd-dfccecb46df8",
        "colab": {
          "base_uri": "https://localhost:8080/",
          "height": 295
        }
      },
      "source": [
        "flights_gr = pd.DataFrame(flights_delayed.groupby(flights_delayed.month)['dep_delay'].mean().reset_index(name='mean_delay'))\n",
        "plt.plot(flights_gr.month, flights_gr.mean_delay,'')\n",
        "plt.xlim(1, 12)\n",
        "plt.ylabel('Mean time of delay')\n",
        "plt.xlabel('Month')\n",
        "plt.title('Mean time of positive delay depending on month')\n",
        "plt.show()"
      ],
      "execution_count": 135,
      "outputs": [
        {
          "output_type": "display_data",
          "data": {
            "image/png": "[encoded data removed]",
            "text/plain": [
              "<Figure size 432x288 with 1 Axes>"
            ]
          },
          "metadata": {
            "tags": []
          }
        }
      ]
    },
    {
      "cell_type": "markdown",
      "metadata": {
        "id": "y76CH0j58DW9",
        "colab_type": "text"
      },
      "source": [
        "Видно, что худший месяц - июль, а лучший - ноябрь"
      ]
    },
    {
      "cell_type": "markdown",
      "metadata": {
        "id": "NJETUBc28Tv5",
        "colab_type": "text"
      },
      "source": [
        "Почему так получилось? Посмотрим загруженность аэропортов в зависимости от месяца."
      ]
    },
    {
      "cell_type": "code",
      "metadata": {
        "id": "M-DCPXLr8KUW",
        "colab_type": "code",
        "outputId": "b970d7e2-44b3-4bd0-9e2d-9622417710df",
        "colab": {
          "base_uri": "https://localhost:8080/",
          "height": 295
        }
      },
      "source": [
        "flights_gr = pd.DataFrame(flights.month.value_counts().reset_index(name = 'Number'))\n",
        "plt.bar(np.array(flights_gr['index']), np.array(flights_gr.Number))\n",
        "plt.xlabel('Month')\n",
        "plt.ylabel('Number of departures')\n",
        "plt.title('Congestion of the airport depending on the month')\n",
        "plt.show()"
      ],
      "execution_count": 136,
      "outputs": [
        {
          "output_type": "display_data",
          "data": {
            "image/png": "[encoded data removed]",
            "text/plain": [
              "<Figure size 432x288 with 1 Axes>"
            ]
          },
          "metadata": {
            "tags": []
          }
        }
      ]
    },
    {
      "cell_type": "markdown",
      "metadata": {
        "id": "vpSnUcVgKb_F",
        "colab_type": "text"
      },
      "source": [
        "Действительно, из графика видно, что июль - один из самых загруженных месяцев. Но в августе при почти такой же (на 97 вылетов меньше) загруженности средняя задержка в полтора раза меньше. Возможно, дело в отпусках сотрудников аэропорта в июле, но вопрос требует дальнейшего исследования."
      ]
    },
    {
      "cell_type": "markdown",
      "metadata": {
        "id": "x5H056C9U7ya",
        "colab_type": "text"
      },
      "source": [
        "Теперь перейдем к исследованию зависимостей от погоды. "
      ]
    },
    {
      "cell_type": "code",
      "metadata": {
        "id": "51U0XXO1qnlF",
        "colab_type": "code",
        "colab": {}
      },
      "source": [
        "flights = flights.merge(weather, on=['year', 'month', 'day', 'hour', 'origin'], how='inner')"
      ],
      "execution_count": 0,
      "outputs": []
    },
    {
      "cell_type": "markdown",
      "metadata": {
        "id": "Q29mVDldu-ui",
        "colab_type": "text"
      },
      "source": [
        "Влажность воздуха:"
      ]
    },
    {
      "cell_type": "code",
      "metadata": {
        "id": "tEVj42gIvCAv",
        "colab_type": "code",
        "colab": {
          "base_uri": "https://localhost:8080/",
          "height": 312
        },
        "outputId": "e9660eb4-4157-449f-a864-f2789928e304"
      },
      "source": [
        "plt.scatter(flights.groupby(['month','day'])['humid'].mean(), flights.groupby(['month','day'])['dep_delay'].mean())\n",
        "plt.title('Departure delay depending on humidity')\n",
        "plt.xlabel('Humidity')\n",
        "plt.ylabel('Mean delay')"
      ],
      "execution_count": 138,
      "outputs": [
        {
          "output_type": "execute_result",
          "data": {
            "text/plain": [
              "Text(0, 0.5, 'Mean delay')"
            ]
          },
          "metadata": {
            "tags": []
          },
          "execution_count": 138
        },
        {
          "output_type": "display_data",
          "data": {
            "image/png": "[encoded data removed]",
            "text/plain": [
              "<Figure size 432x288 with 1 Axes>"
            ]
          },
          "metadata": {
            "tags": []
          }
        }
      ]
    },
    {
      "cell_type": "markdown",
      "metadata": {
        "id": "fv4o2ZhmvLMQ",
        "colab_type": "text"
      },
      "source": [
        "Видно, что при большей влажности средняя задержка отправления выше."
      ]
    },
    {
      "cell_type": "code",
      "metadata": {
        "id": "pnL3CtRovvoI",
        "colab_type": "code",
        "colab": {
          "base_uri": "https://localhost:8080/",
          "height": 312
        },
        "outputId": "056a737e-edf8-49a3-f0cf-5fd3458cabb3"
      },
      "source": [
        "plt.scatter(flights.groupby(['month','day'])['humid'].mean(), flights.groupby(['month','day'])['arr_delay'].mean())\n",
        "plt.title('Arrival delay depending on humidity')\n",
        "plt.xlabel('Humidity')\n",
        "plt.ylabel('Mean delay')"
      ],
      "execution_count": 139,
      "outputs": [
        {
          "output_type": "execute_result",
          "data": {
            "text/plain": [
              "Text(0, 0.5, 'Mean delay')"
            ]
          },
          "metadata": {
            "tags": []
          },
          "execution_count": 139
        },
        {
          "output_type": "display_data",
          "data": {
            "image/png": "[encoded data removed]",
            "text/plain": [
              "<Figure size 432x288 with 1 Axes>"
            ]
          },
          "metadata": {
            "tags": []
          }
        }
      ]
    },
    {
      "cell_type": "markdown",
      "metadata": {
        "id": "9znqkB0Qv-dk",
        "colab_type": "text"
      },
      "source": [
        "Для задержки прибытия зависимость тоже прослеживается, но не так явно."
      ]
    },
    {
      "cell_type": "markdown",
      "metadata": {
        "id": "Eklni9CjuJid",
        "colab_type": "text"
      },
      "source": [
        "Видимость:"
      ]
    },
    {
      "cell_type": "code",
      "metadata": {
        "id": "oZ7v-3Z2ZXx1",
        "colab_type": "code",
        "colab": {
          "base_uri": "https://localhost:8080/",
          "height": 312
        },
        "outputId": "0d7c29dd-2f60-444d-94c4-1bb6c56a6a8d"
      },
      "source": [
        "visib_delay = flights.groupby('visib').mean()['arr_delay']\n",
        "plt.scatter(visib_delay.index, visib_delay)\n",
        "visib_delay.plot()\n",
        "plt.title('Arrival delay depending on visibility')\n",
        "plt.xlabel('Visible')\n",
        "plt.ylabel('Mean arrival delay')"
      ],
      "execution_count": 140,
      "outputs": [
        {
          "output_type": "execute_result",
          "data": {
            "text/plain": [
              "Text(0, 0.5, 'Mean arrival delay')"
            ]
          },
          "metadata": {
            "tags": []
          },
          "execution_count": 140
        },
        {
          "output_type": "display_data",
          "data": {
            "image/png": "[encoded data removed]",
            "text/plain": [
              "<Figure size 432x288 with 1 Axes>"
            ]
          },
          "metadata": {
            "tags": []
          }
        }
      ]
    },
    {
      "cell_type": "markdown",
      "metadata": {
        "id": "RQKALPv1t85r",
        "colab_type": "text"
      },
      "source": [
        "Ожидаемо, самолеты прилетают позже при низкой видимости. "
      ]
    },
    {
      "cell_type": "code",
      "metadata": {
        "id": "2keTQicxwQa7",
        "colab_type": "code",
        "colab": {
          "base_uri": "https://localhost:8080/",
          "height": 312
        },
        "outputId": "25902945-48a4-4601-f94a-84951f995598"
      },
      "source": [
        "visib_delay = flights.groupby('visib').mean()['dep_delay']\n",
        "plt.scatter(visib_delay.index, visib_delay)\n",
        "visib_delay.plot()\n",
        "\n",
        "plt.title('Departure delay depending on visibility')\n",
        "plt.xlabel('Visible')\n",
        "plt.ylabel('Mean arrival delay')"
      ],
      "execution_count": 141,
      "outputs": [
        {
          "output_type": "execute_result",
          "data": {
            "text/plain": [
              "Text(0, 0.5, 'Mean arrival delay')"
            ]
          },
          "metadata": {
            "tags": []
          },
          "execution_count": 141
        },
        {
          "output_type": "display_data",
          "data": {
            "image/png": "[encoded data removed]",
            "text/plain": [
              "<Figure size 432x288 with 1 Axes>"
            ]
          },
          "metadata": {
            "tags": []
          }
        }
      ]
    },
    {
      "cell_type": "markdown",
      "metadata": {
        "id": "uDc9lQOTwV1j",
        "colab_type": "text"
      },
      "source": [
        "Для времени отправления ситуация аналогичная"
      ]
    },
    {
      "cell_type": "markdown",
      "metadata": {
        "id": "cL27lwfIuLaP",
        "colab_type": "text"
      },
      "source": [
        "И наконец, скорость ветра: "
      ]
    },
    {
      "cell_type": "code",
      "metadata": {
        "id": "CqupoZK8p_E0",
        "colab_type": "code",
        "colab": {
          "base_uri": "https://localhost:8080/",
          "height": 312
        },
        "outputId": "92f7862a-1d44-45ce-85a9-6ff1b0a47ad5"
      },
      "source": [
        "flights['wind_speed'] = flights.wind_speed.apply(lambda x: x if np.isnan(x) else round(x))\n",
        "wind_delay = flights.groupby('wind_speed').mean()['dep_delay']\n",
        "wind_delay = wind_delay.sort_index()\n",
        "wind_delay = wind_delay.drop(labels=[wind_delay.index[-1]])\n",
        "plt.scatter(wind_delay.index, wind_delay)\n",
        "plt.title('Depatrure delay depending on wind speed')\n",
        "plt.xlabel('Wind speed')\n",
        "plt.ylabel('Mean delay')"
      ],
      "execution_count": 142,
      "outputs": [
        {
          "output_type": "execute_result",
          "data": {
            "text/plain": [
              "Text(0, 0.5, 'Mean delay')"
            ]
          },
          "metadata": {
            "tags": []
          },
          "execution_count": 142
        },
        {
          "output_type": "display_data",
          "data": {
            "image/png": "[encoded data removed]",
            "text/plain": [
              "<Figure size 432x288 with 1 Axes>"
            ]
          },
          "metadata": {
            "tags": []
          }
        }
      ]
    },
    {
      "cell_type": "markdown",
      "metadata": {
        "id": "CSXCvEXrunhL",
        "colab_type": "text"
      },
      "source": [
        "И вновь получили ожидаемый результат: самолеты тем больше задерживаются, чем больше скорость ветра. "
      ]
    },
    {
      "cell_type": "code",
      "metadata": {
        "id": "Lrd9PicDuUFh",
        "colab_type": "code",
        "colab": {
          "base_uri": "https://localhost:8080/",
          "height": 312
        },
        "outputId": "f24daa80-e118-42f9-bf22-ed62dd79f7e7"
      },
      "source": [
        "flights['wind_speed'] = flights.wind_speed.apply(lambda x: x if np.isnan(x) else round(x))\n",
        "wind_delay = flights.groupby('wind_speed').mean()['arr_delay']\n",
        "wind_delay = wind_delay.sort_index()\n",
        "wind_delay = wind_delay.drop(labels=[wind_delay.index[-1]])\n",
        "plt.scatter(wind_delay.index, wind_delay)\n",
        "plt.title('Arrival delay depending on wind speed')\n",
        "plt.xlabel('Wind speed')\n",
        "plt.ylabel('Mean delay')"
      ],
      "execution_count": 143,
      "outputs": [
        {
          "output_type": "execute_result",
          "data": {
            "text/plain": [
              "Text(0, 0.5, 'Mean delay')"
            ]
          },
          "metadata": {
            "tags": []
          },
          "execution_count": 143
        },
        {
          "output_type": "display_data",
          "data": {
            "image/png": "[encoded data removed]",
            "text/plain": [
              "<Figure size 432x288 with 1 Axes>"
            ]
          },
          "metadata": {
            "tags": []
          }
        }
      ]
    },
    {
      "cell_type": "markdown",
      "metadata": {
        "id": "K9PfclkXw2PS",
        "colab_type": "text"
      },
      "source": [
        "С прибытием ситуация аналогичная."
      ]
    }
  ]
}