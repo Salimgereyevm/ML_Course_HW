{
  "nbformat": 4,
  "nbformat_minor": 0,
  "metadata": {
    "colab": {
      "name": "Hometask_6-MCMC.ipynb",
      "provenance": [],
      "include_colab_link": true
    },
    "kernelspec": {
      "name": "python3",
      "display_name": "Python 3"
    }
  },
  "cells": [
    {
      "cell_type": "markdown",
      "metadata": {
        "id": "view-in-github",
        "colab_type": "text"
      },
      "source": [
        "<a href=\"https://colab.research.google.com/github/Salimgereyevm/SalimgereyevM309/blob/Hometask_6/Hometask_6_MCMC.ipynb\" target=\"_parent\"><img src=\"https://colab.research.google.com/assets/colab-badge.svg\" alt=\"Open In Colab\"/></a>"
      ]
    },
    {
      "cell_type": "code",
      "metadata": {
        "id": "-zYm5QQhnwcc",
        "colab_type": "code",
        "colab": {}
      },
      "source": [
        "import matplotlib.pyplot as plt\n",
        "import numpy as np\n",
        "\n",
        "def plot_grid(narr):\n",
        "    '''Plots 2d lattice with vertices colored in black and red according to given mask.\n",
        "    Vertice is colored black if narr[i, j] == True and red otherwise.\n",
        "    \n",
        "    Parameters\n",
        "    ----------\n",
        "    narr : 2d boolean ndarray\n",
        "        Mask for vertices colors\n",
        "    '''\n",
        "\n",
        "    if narr.dtype != 'bool':\n",
        "        raise ValueError('narr should be a boolean ndarray')\n",
        "    colors = np.empty(narr.shape, dtype='U5')\n",
        "    colors[:] = 'red'\n",
        "    colors[narr] = 'black'\n",
        "    x, y = np.indices((narr.shape))\n",
        "    plt.scatter(x, y, c=colors.ravel())\n",
        "    plt.show()"
      ],
      "execution_count": 0,
      "outputs": []
    },
    {
      "cell_type": "code",
      "metadata": {
        "id": "j-fYALHXn0_s",
        "colab_type": "code",
        "colab": {
          "base_uri": "https://localhost:8080/",
          "height": 265
        },
        "outputId": "3d50f0c1-aac6-42a9-b902-5e3703c2ffd0"
      },
      "source": [
        "size = 8\n",
        "narr = np.random.choice([0, 1], size=size**2).reshape((size, size)).astype('bool')\n",
        "plot_grid(narr)"
      ],
      "execution_count": 60,
      "outputs": [
        {
          "output_type": "display_data",
          "data": {
            "image/png": "[encoded data removed]",
            "text/plain": [
              "<Figure size 432x288 with 1 Axes>"
            ]
          },
          "metadata": {
            "tags": []
          }
        }
      ]
    },
    {
      "cell_type": "code",
      "metadata": {
        "id": "xJEvj1n-pvJH",
        "colab_type": "code",
        "colab": {
          "base_uri": "https://localhost:8080/",
          "height": 265
        },
        "outputId": "88237cf2-d7cf-49ce-aebf-78d1251f2c3c"
      },
      "source": [
        "current = np.zeros(size*size).reshape(size,size).astype('bool')\n",
        "plot_grid(current)"
      ],
      "execution_count": 61,
      "outputs": [
        {
          "output_type": "display_data",
          "data": {
            "image/png": "[encoded data removed]",
            "text/plain": [
              "<Figure size 432x288 with 1 Axes>"
            ]
          },
          "metadata": {
            "tags": []
          }
        }
      ]
    },
    {
      "cell_type": "markdown",
      "metadata": {
        "id": "WEsKZldvBqu-",
        "colab_type": "text"
      },
      "source": [
        "Функция определяющая где уже стоят единички и куда их можно поставить:"
      ]
    },
    {
      "cell_type": "code",
      "metadata": {
        "id": "2Ba_1IsPn7mo",
        "colab_type": "code",
        "colab": {}
      },
      "source": [
        "def findPlacefor1(chain, current, size):\n",
        "    for i in range(size):\n",
        "        for j in range(size):\n",
        "            if current[i, j] or ((i == 0 or not current[i - 1, j]) and (j == 0 or not current[i, j - 1]) and (i == size - 1 or not current[i + 1, j]) and  (j == size - 1 or not current[i, j + 1])):\n",
        "                chain.append((i, j))"
      ],
      "execution_count": 0,
      "outputs": []
    },
    {
      "cell_type": "markdown",
      "metadata": {
        "id": "_Bo_Fjsy9dMw",
        "colab_type": "text"
      },
      "source": [
        "Начинаем с нулевой матрицы. Будем строить следующий шаг по аналогии с примером про политика: меняем в вакантном, т.е месте определенном на прошлом шаге, значение на противоположное и смотрим количество оставшихся вакантных мест. Если количество вакантных мест в следующем больше, чем в предыдущем - переходим к новой. Если нет, переходим к новой с вероятностью N/M, N - количество мест в новой, M - в старой."
      ]
    },
    {
      "cell_type": "code",
      "metadata": {
        "id": "c0nOEDvb-qF6",
        "colab_type": "code",
        "colab": {}
      },
      "source": [
        "def step(current, size):\n",
        "    chain = []\n",
        "    findPlacefor1(chain, current, size)\n",
        "    ran = chain[np.random.randint(0, len(chain))]\n",
        "    \n",
        "    new = np.array(current)\n",
        "    new[ran[0], ran[1]] = not current[ran[0], ran[1]]\n",
        " \n",
        "    new_chain = []\n",
        "    findPlacefor1(new_chain, current, size)\n",
        " \n",
        "    if np.random.uniform() > len(chain)/len(new_chain):\n",
        "        return current\n",
        "    return new"
      ],
      "execution_count": 0,
      "outputs": []
    },
    {
      "cell_type": "markdown",
      "metadata": {
        "id": "6xDsYSYk-_jz",
        "colab_type": "text"
      },
      "source": [
        "Теперь по методом Монте-Карло оценим среднее количество единичек:"
      ]
    },
    {
      "cell_type": "code",
      "metadata": {
        "id": "7UvgeouFrN1I",
        "colab_type": "code",
        "colab": {}
      },
      "source": [
        "chains = []\n",
        "for i in range(100000):\n",
        "    current = step(current, size)\n",
        "    chains.append((abs(current)).sum())\n",
        "E = np.array(chains).mean()"
      ],
      "execution_count": 0,
      "outputs": []
    },
    {
      "cell_type": "code",
      "metadata": {
        "id": "dDrs7AtDrxuH",
        "colab_type": "code",
        "colab": {
          "base_uri": "https://localhost:8080/",
          "height": 35
        },
        "outputId": "50c32209-f39d-4b3d-ec1e-d95bb3a7bd55"
      },
      "source": [
        "print('E = ', E)"
      ],
      "execution_count": 65,
      "outputs": [
        {
          "output_type": "stream",
          "text": [
            "E =  15.20998\n"
          ],
          "name": "stdout"
        }
      ]
    },
    {
      "cell_type": "markdown",
      "metadata": {
        "id": "3UcSz2TyAV1i",
        "colab_type": "text"
      },
      "source": [
        "Проверим стабильность:"
      ]
    },
    {
      "cell_type": "code",
      "metadata": {
        "id": "ftMvqC2-AZdQ",
        "colab_type": "code",
        "colab": {
          "base_uri": "https://localhost:8080/",
          "height": 197
        },
        "outputId": "bd0eda03-4db4-475a-cc7e-49fda589ea74"
      },
      "source": [
        "from scipy import stats\n",
        "def g_test(x, start=0.1, end=0.5):\n",
        "    return stats.ttest_ind(x[:int(len(x) * start)], x[-int(len(x) * end):], equal_var=False)\n",
        "\n",
        "\n",
        "for i in range(10):  \n",
        "    print(g_test(chains[1000*i:]))"
      ],
      "execution_count": 66,
      "outputs": [
        {
          "output_type": "stream",
          "text": [
            "Ttest_indResult(statistic=-4.278366145973067, pvalue=1.8947347968615236e-05)\n",
            "Ttest_indResult(statistic=-4.54030827340247, pvalue=5.662539529818744e-06)\n",
            "Ttest_indResult(statistic=-3.2932799759029465, pvalue=0.000992682451516477)\n",
            "Ttest_indResult(statistic=-1.7123178974268831, pvalue=0.0868601232171687)\n",
            "Ttest_indResult(statistic=1.5879465047572772, pvalue=0.11232122357822753)\n",
            "Ttest_indResult(statistic=0.5452971458361923, pvalue=0.5855579985866055)\n",
            "Ttest_indResult(statistic=-1.8806570438752517, pvalue=0.06004006332845972)\n",
            "Ttest_indResult(statistic=-1.5293794219317642, pvalue=0.12619425174890414)\n",
            "Ttest_indResult(statistic=-1.1103172695264723, pvalue=0.26688269272663395)\n",
            "Ttest_indResult(statistic=-0.095922779386126, pvalue=0.9235833767259094)\n"
          ],
          "name": "stdout"
        }
      ]
    },
    {
      "cell_type": "code",
      "metadata": {
        "id": "Ghn2VqcNAmUX",
        "colab_type": "code",
        "colab": {
          "base_uri": "https://localhost:8080/",
          "height": 265
        },
        "outputId": "4994d560-f646-438a-d2ca-ab7322c93ede"
      },
      "source": [
        "plt.plot(chains)\n",
        "plt.show()"
      ],
      "execution_count": 67,
      "outputs": [
        {
          "output_type": "display_data",
          "data": {
            "image/png": "[encoded data removed]",
            "text/plain": [
              "<Figure size 432x288 with 1 Axes>"
            ]
          },
          "metadata": {
            "tags": []
          }
        }
      ]
    },
    {
      "cell_type": "markdown",
      "metadata": {
        "id": "t1wemn08AzgO",
        "colab_type": "text"
      },
      "source": [
        "Нет причин отвергать гипотезу о стабильности. Более того, видно, что 100000 многовато, стабильность проявляется раньше."
      ]
    },
    {
      "cell_type": "markdown",
      "metadata": {
        "id": "0bE0XG46BBZ5",
        "colab_type": "text"
      },
      "source": [
        "Ну и плотность:"
      ]
    },
    {
      "cell_type": "code",
      "metadata": {
        "id": "smnXQN2UBAFf",
        "colab_type": "code",
        "colab": {
          "base_uri": "https://localhost:8080/",
          "height": 283
        },
        "outputId": "f1b55194-ffc0-43e1-d868-3a675fb6438b"
      },
      "source": [
        "plt.hist(chains)\n",
        "plt.show"
      ],
      "execution_count": 68,
      "outputs": [
        {
          "output_type": "execute_result",
          "data": {
            "text/plain": [
              "<function matplotlib.pyplot.show>"
            ]
          },
          "metadata": {
            "tags": []
          },
          "execution_count": 68
        },
        {
          "output_type": "display_data",
          "data": {
            "image/png": "[encoded data removed]",
            "text/plain": [
              "<Figure size 432x288 with 1 Axes>"
            ]
          },
          "metadata": {
            "tags": []
          }
        }
      ]
    },
    {
      "cell_type": "code",
      "metadata": {
        "id": "OC3GwWaHFHH5",
        "colab_type": "code",
        "colab": {}
      },
      "source": [
        ""
      ],
      "execution_count": 0,
      "outputs": []
    }
  ]
}