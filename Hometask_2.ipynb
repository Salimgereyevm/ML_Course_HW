{
  "nbformat": 4,
  "nbformat_minor": 0,
  "metadata": {
    "colab": {
      "name": "Hometask_2.ipynb",
      "provenance": [],
      "collapsed_sections": [],
      "include_colab_link": true
    },
    "kernelspec": {
      "name": "python3",
      "display_name": "Python 3"
    }
  },
  "cells": [
    {
      "cell_type": "markdown",
      "metadata": {
        "id": "view-in-github",
        "colab_type": "text"
      },
      "source": [
        "<a href=\"https://colab.research.google.com/github/Salimgereyevm/SalimgereyevM309/blob/Hometask_2/Hometask_2.ipynb\" target=\"_parent\"><img src=\"https://colab.research.google.com/assets/colab-badge.svg\" alt=\"Open In Colab\"/></a>"
      ]
    },
    {
      "cell_type": "markdown",
      "metadata": {
        "id": "pDZEhiAcyTXo",
        "colab_type": "text"
      },
      "source": [
        "## **Task 1** "
      ]
    },
    {
      "cell_type": "code",
      "metadata": {
        "id": "fTqf0YwUpvsv",
        "colab_type": "code",
        "outputId": "f0aa2ae1-36d6-485c-89fc-f9645a89d537",
        "colab": {
          "base_uri": "https://localhost:8080/",
          "height": 221
        }
      },
      "source": [
        "import numpy as np\n",
        "import matplotlib.pyplot as plt\n",
        "\n",
        "a =np.random.random((10,3)) -0.5\n",
        "\n",
        "print(a+0.5)\n",
        "\n",
        "print(np.min(abs(a)+0.5, axis = 1))\n"
      ],
      "execution_count": 1,
      "outputs": [
        {
          "output_type": "stream",
          "text": [
            "[[0.86555515 0.74042501 0.54820343]\n",
            " [0.72677855 0.72202756 0.80318604]\n",
            " [0.40638402 0.73501222 0.13327694]\n",
            " [0.4900501  0.39094943 0.11919751]\n",
            " [0.26997555 0.79604366 0.93319936]\n",
            " [0.94861579 0.14228877 0.90587836]\n",
            " [0.46825072 0.55291472 0.17906441]\n",
            " [0.56064963 0.87678197 0.59661739]\n",
            " [0.22002112 0.47140381 0.92270425]\n",
            " [0.94849164 0.22744854 0.37160114]]\n",
            "[0.54820343 0.72202756 0.59361598 0.5099499  0.73002445 0.85771123\n",
            " 0.53174928 0.56064963 0.52859619 0.62839886]\n"
          ],
          "name": "stdout"
        }
      ]
    },
    {
      "cell_type": "markdown",
      "metadata": {
        "id": "kln3WeCWCrAm",
        "colab_type": "text"
      },
      "source": [
        "## **Task 2** "
      ]
    },
    {
      "cell_type": "code",
      "metadata": {
        "id": "ZOTxepO_tvme",
        "colab_type": "code",
        "outputId": "df1435d8-fa28-440b-c15a-290e5e37b89b",
        "colab": {
          "base_uri": "https://localhost:8080/",
          "height": 136
        }
      },
      "source": [
        "a =np.random.random((6,6))\n",
        "print (a)\n",
        "# print (np.min(a,axis = 0))\n",
        "print(np.sum(a, axis = 1)/np.min(a,axis = 0))"
      ],
      "execution_count": 2,
      "outputs": [
        {
          "output_type": "stream",
          "text": [
            "[[0.12430582 0.14471531 0.84253176 0.09415755 0.23449205 0.06506438]\n",
            " [0.86928144 0.59237661 0.99808194 0.39290635 0.95047081 0.31738914]\n",
            " [0.14762129 0.15762679 0.57044701 0.25786543 0.23244735 0.40567911]\n",
            " [0.69041962 0.35371142 0.84159644 0.15567061 0.67809396 0.42502686]\n",
            " [0.43642252 0.09376547 0.37455811 0.38175697 0.77426814 0.3240938 ]\n",
            " [0.29754436 0.4390373  0.62140472 0.8473809  0.60416785 0.41316937]]\n",
            "[12.10938333 43.94481316  4.73007241 33.39635525 10.25980731 49.53101102]\n"
          ],
          "name": "stdout"
        }
      ]
    },
    {
      "cell_type": "markdown",
      "metadata": {
        "id": "Swe48dHpFcwz",
        "colab_type": "text"
      },
      "source": [
        "## **Task 3**"
      ]
    },
    {
      "cell_type": "code",
      "metadata": {
        "id": "7xzqwOE0CZ0w",
        "colab_type": "code",
        "outputId": "4c6823a9-645e-4688-9d06-c086e300afb4",
        "colab": {
          "base_uri": "https://localhost:8080/",
          "height": 51
        }
      },
      "source": [
        "a = np.array([6, 2, 0, 3, 0, 0, 5, 0, 0])\n",
        "mask = a == 0\n",
        "# print([True]*6+[False])\n",
        "print(a[:])\n",
        "# print(a[1:][[True]*7+[False]])\n",
        "print (a[:][mask].max())"
      ],
      "execution_count": 3,
      "outputs": [
        {
          "output_type": "stream",
          "text": [
            "[6 2 0 3 0 0 5 0 0]\n",
            "0\n"
          ],
          "name": "stdout"
        }
      ]
    },
    {
      "cell_type": "markdown",
      "metadata": {
        "id": "SnXqp6liqJk2",
        "colab_type": "text"
      },
      "source": [
        "## **Task 4** "
      ]
    },
    {
      "cell_type": "code",
      "metadata": {
        "id": "-hJSua8NqO63",
        "colab_type": "code",
        "outputId": "4703d412-2dc6-42c3-ec62-99e1288017e1",
        "colab": {
          "base_uri": "https://localhost:8080/",
          "height": 34
        }
      },
      "source": [
        "x = np.ones(10)\n",
        "i = np.array([0, 1, 2, 3, 5, 5, 5, 8])\n",
        "x+=np.bincount(i, minlength = x.shape[0])\n",
        "\n",
        "print(x)\n"
      ],
      "execution_count": 4,
      "outputs": [
        {
          "output_type": "stream",
          "text": [
            "[2. 2. 2. 2. 1. 4. 1. 1. 2. 1.]\n"
          ],
          "name": "stdout"
        }
      ]
    },
    {
      "cell_type": "markdown",
      "metadata": {
        "id": "VeorcqS8rEid",
        "colab_type": "text"
      },
      "source": [
        "## **Task 5** "
      ]
    },
    {
      "cell_type": "code",
      "metadata": {
        "id": "m9ES9yE6rGPD",
        "colab_type": "code",
        "outputId": "443bc3d1-0129-48b9-d1d5-bd58d34191f9",
        "colab": {
          "base_uri": "https://localhost:8080/",
          "height": 54
        }
      },
      "source": [
        "a=np.arange(16).reshape(4,4)\n",
        "# print(a.shape)\n",
        "# print(a[::-1,:])\n",
        "# print(a[::-1,:].diagonal(-1))\n",
        "d=[a[::-1,:].diagonal(i) for i in range(-a.shape[0]+1,a.shape[1])]\n",
        "d = {b:d[b] for b in range(7)}\n",
        "print(d)"
      ],
      "execution_count": 5,
      "outputs": [
        {
          "output_type": "stream",
          "text": [
            "{0: array([0]), 1: array([4, 1]), 2: array([8, 5, 2]), 3: array([12,  9,  6,  3]), 4: array([13, 10,  7]), 5: array([14, 11]), 6: array([15])}\n"
          ],
          "name": "stdout"
        }
      ]
    },
    {
      "cell_type": "markdown",
      "metadata": {
        "id": "36ITLsn1_jtS",
        "colab_type": "text"
      },
      "source": [
        "## **Task 6**"
      ]
    },
    {
      "cell_type": "code",
      "metadata": {
        "id": "FjxrMs6l_lTZ",
        "colab_type": "code",
        "outputId": "6981b7cf-fc7e-4f1c-b05f-715c42434c45",
        "colab": {
          "base_uri": "https://localhost:8080/",
          "height": 286
        }
      },
      "source": [
        "data = np.loadtxt('http://www.stat.cmu.edu/~larry/all-of-statistics/=data/faithful.dat', skiprows=26)[:, 1:]\n",
        "data -= np.mean(data, axis = 0) #STANDART\n",
        "data /= np.std(data, axis = 0)\n",
        "plt.scatter(*data.T)\n",
        "plt.show "
      ],
      "execution_count": 276,
      "outputs": [
        {
          "output_type": "execute_result",
          "data": {
            "text/plain": [
              "<function matplotlib.pyplot.show>"
            ]
          },
          "metadata": {
            "tags": []
          },
          "execution_count": 276
        },
        {
          "output_type": "display_data",
          "data": {
            "image/png": "[encoded data removed]",
            "text/plain": [
              "<Figure size 432x288 with 1 Axes>"
            ]
          },
          "metadata": {
            "tags": []
          }
        }
      ]
    },
    {
      "cell_type": "code",
      "metadata": {
        "id": "bWPYtpd_AXjm",
        "colab_type": "code",
        "colab": {}
      },
      "source": [
        "def get_label(pts, centroids):\n",
        "  pts = pts[:,np.newaxis,:] # \"Повернем\" массив вокруг левой оси на 90\n",
        "  bigmass = pts - centroids #центроиды \"положили\" и вычли из pts\n",
        "  dist = np.linalg.norm(bigmass, axis = 2)\n",
        "  return np.argmin(dist,axis = 1)\n",
        "\n",
        "\n",
        "def get_min(pts,centroids):\n",
        "  pts = pts[:,np.newaxis,:] # Повернем массив вокруг левой оси на 90\n",
        "  bigmass = pts - centroids #центроиды \"положили\" и вычли из pts\n",
        "  dist = np.linalg.norm(bigmass, axis = 2)\n",
        "  return np.min(dist,axis = 1)\n",
        "\n",
        "def get_distortion(pts,centroids):\n",
        "  return np.linalg.norm(get_min(pts,centroids))"
      ],
      "execution_count": 0,
      "outputs": []
    },
    {
      "cell_type": "code",
      "metadata": {
        "id": "drigKToSPieg",
        "colab_type": "code",
        "colab": {}
      },
      "source": [
        "def my_kmeans(data, k, accuracy = 1e-05):\n",
        "  centroids = np.random.uniform(min(np.min(data, axis = 0)), max(np.max(data, axis = 0)), k*data.shape[1]).reshape(k, data.shape[1])\n",
        "  newCentroids = data[:k,:]\n",
        "  distortion = get_distortion(data,centroids)\n",
        "  labels = get_label(data, centroids)\n",
        "  while(np.linalg.norm(centroids-newCentroids)> accuracy):\n",
        "    distortion = get_distortion(data, centroids)\n",
        "    centroids = newCentroids\n",
        "    labels = get_label(data, centroids)\n",
        "    newCentroids = np.array([np.mean(data[np.where(labels == i)], axis = 0) for i in range(k)])\n",
        "  return newCentroids, get_distortion(data, newCentroids) "
      ],
      "execution_count": 0,
      "outputs": []
    },
    {
      "cell_type": "markdown",
      "metadata": {
        "id": "mFk_ylcq30Yu",
        "colab_type": "text"
      },
      "source": [
        "**ДАЛЕЕ ВВЕДИТЕ КОЛИЧЕСТВО КЛАСТЕРОВ**"
      ]
    },
    {
      "cell_type": "code",
      "metadata": {
        "id": "Oq6RanOlzu6D",
        "colab_type": "code",
        "colab": {
          "base_uri": "https://localhost:8080/",
          "height": 34
        },
        "outputId": "52c7e041-aaee-4e9d-9ded-64c3ff0ff2f2"
      },
      "source": [
        "k = int(input(\"Input number of clasters \"))\n",
        "centroids, distortion = my_kmeans(data, k)\n",
        "labels = get_label(data, centroids)"
      ],
      "execution_count": 307,
      "outputs": [
        {
          "output_type": "stream",
          "text": [
            "Input number of clasters3\n"
          ],
          "name": "stdout"
        }
      ]
    },
    {
      "cell_type": "markdown",
      "metadata": {
        "id": "05rS3GXR3Whm",
        "colab_type": "text"
      },
      "source": [
        "**ЦЕНТРЫ КЛАССОВ ОТМЕЧЕНЫ ДРУГИМ ЦВЕТОМ, см код (Синий -> Красный и т.д))**\n",
        "\n",
        "---\n",
        "\n"
      ]
    },
    {
      "cell_type": "code",
      "metadata": {
        "id": "dIyq857eyU4z",
        "colab_type": "code",
        "colab": {
          "base_uri": "https://localhost:8080/",
          "height": 281
        },
        "outputId": "18ab4506-952c-48c0-a987-6e45ee20135c"
      },
      "source": [
        "colors = np.array(['blue', 'red', 'green', 'black', 'yellow', 'pink']*k)\n",
        "labels = get_labels(data, centroids)\n",
        "plt.scatter(*data.T, c = colors[labels[:]])\n",
        "plt.scatter(*np.array(centroids).T, c = colors[1:k+1], marker='*')\n",
        "plt.title('Predicted Classes')\n",
        "plt.show()"
      ],
      "execution_count": 311,
      "outputs": [
        {
          "output_type": "display_data",
          "data": {
            "image/png": "[encoded data removed]",
            "text/plain": [
              "<Figure size 432x288 with 1 Axes>"
            ]
          },
          "metadata": {
            "tags": []
          }
        }
      ]
    },
    {
      "cell_type": "code",
      "metadata": {
        "id": "JVmbvLq3zUrv",
        "colab_type": "code",
        "colab": {}
      },
      "source": [
        ""
      ],
      "execution_count": 0,
      "outputs": []
    }
  ]
}