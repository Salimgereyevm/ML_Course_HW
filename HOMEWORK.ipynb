{
  "nbformat": 4,
  "nbformat_minor": 0,
  "metadata": {
    "colab": {
      "name": "Untitled2.ipynb",
      "provenance": [],
      "include_colab_link": true
    },
    "kernelspec": {
      "name": "python3",
      "display_name": "Python 3"
    }
  },
  "cells": [
    {
      "cell_type": "markdown",
      "metadata": {
        "id": "view-in-github",
        "colab_type": "text"
      },
      "source": [
        "<a href=\"https://colab.research.google.com/github/Salimgereyevm/SalimgereyevM309/blob/Hometask_1/HOMEWORK.ipynb\" target=\"_parent\"><img src=\"https://colab.research.google.com/assets/colab-badge.svg\" alt=\"Open In Colab\"/></a>"
      ]
    },
    {
      "cell_type": "markdown",
      "metadata": {
        "id": "TL0Wa0g7vjgA",
        "colab_type": "text"
      },
      "source": [
        "Odd or even (1)"
      ]
    },
    {
      "cell_type": "code",
      "metadata": {
        "id": "w3BGun_bv1bu",
        "colab_type": "code",
        "outputId": "c8040e9c-12bf-4674-e03d-e29695e26c20",
        "colab": {
          "base_uri": "https://localhost:8080/",
          "height": 71
        }
      },
      "source": [
        "print(\"Print your number\")\n",
        "a = int(input())\n",
        "if a % 2 == 0:\n",
        "  print(\"Even\")\n",
        "else:\n",
        "  print(\"Odd\")"
      ],
      "execution_count": 0,
      "outputs": [
        {
          "output_type": "stream",
          "text": [
            "Print your number\n",
            "5\n",
            "Odd\n"
          ],
          "name": "stdout"
        }
      ]
    },
    {
      "cell_type": "markdown",
      "metadata": {
        "id": "PZIloP6XySN3",
        "colab_type": "text"
      },
      "source": [
        "Divisors(2)"
      ]
    },
    {
      "cell_type": "code",
      "metadata": {
        "id": "3SxUva5iyoaM",
        "colab_type": "code",
        "outputId": "6047dab3-8c9b-47ec-fc93-b664b286ccdc",
        "colab": {
          "base_uri": "https://localhost:8080/",
          "height": 125
        }
      },
      "source": [
        "print(\"Print your number\")\n",
        "a = int(input())\n",
        "for i in range(1,a+1):\n",
        "  if a % i == 0:\n",
        "    print(i)"
      ],
      "execution_count": 0,
      "outputs": [
        {
          "output_type": "stream",
          "text": [
            "Print your number\n",
            "10\n",
            "1\n",
            "2\n",
            "5\n",
            "10\n"
          ],
          "name": "stdout"
        }
      ]
    },
    {
      "cell_type": "markdown",
      "metadata": {
        "id": "cD_4C4fmzqX8",
        "colab_type": "text"
      },
      "source": [
        "List Less Than Ten (2)"
      ]
    },
    {
      "cell_type": "code",
      "metadata": {
        "id": "iOe-CxHuOhal",
        "colab_type": "code",
        "colab": {
          "base_uri": "https://localhost:8080/",
          "height": 323
        },
        "outputId": "6f53b232-c2f9-4121-ab6d-47e76c4129bb"
      },
      "source": [
        "a = [2,3,4,5,4,3,2,6,7,8,9,10,10000,1020303,1023002020,10000100,10000,1020,3050,6830,1234]\n",
        "print(\"Print your number\")\n",
        "n = int(input())\n",
        "for i in range (0,len(a)):\n",
        "  if a[i] < n:\n",
        "    print(a[i])"
      ],
      "execution_count": 2,
      "outputs": [
        {
          "output_type": "stream",
          "text": [
            "Print your number\n",
            "10000\n",
            "2\n",
            "3\n",
            "4\n",
            "5\n",
            "4\n",
            "3\n",
            "2\n",
            "6\n",
            "7\n",
            "8\n",
            "9\n",
            "10\n",
            "1020\n",
            "3050\n",
            "6830\n",
            "1234\n"
          ],
          "name": "stdout"
        }
      ]
    },
    {
      "cell_type": "markdown",
      "metadata": {
        "id": "X94neP2gO9ZV",
        "colab_type": "text"
      },
      "source": [
        "String Lists(2)"
      ]
    },
    {
      "cell_type": "code",
      "metadata": {
        "id": "HY1ee1o-O0ab",
        "colab_type": "code",
        "colab": {
          "base_uri": "https://localhost:8080/",
          "height": 68
        },
        "outputId": "3da1e957-478e-4dac-c6f6-b7842d5f3d75"
      },
      "source": [
        "print(\"print string\")\n",
        "a = str(input())\n",
        "for i in range(0,len(a)):\n",
        "#   print(i, \" \", len(a)-i-1)\n",
        "  if a[i] != a[len(a)-i-1]:\n",
        "    print(\"NO palindrome\")\n",
        "    break\n",
        "  elif i == len(a) - 1:\n",
        "    print(\"palindrome\")"
      ],
      "execution_count": 23,
      "outputs": [
        {
          "output_type": "stream",
          "text": [
            "print string\n",
            "12345\n",
            "NO palindrome\n"
          ],
          "name": "stdout"
        }
      ]
    },
    {
      "cell_type": "markdown",
      "metadata": {
        "id": "O-cV2zP_RaCV",
        "colab_type": "text"
      },
      "source": [
        "List Comprehensions (2)"
      ]
    },
    {
      "cell_type": "code",
      "metadata": {
        "id": "Gh4T_W-nP-sx",
        "colab_type": "code",
        "colab": {
          "base_uri": "https://localhost:8080/",
          "height": 204
        },
        "outputId": "99daa390-bc7a-4204-9edf-99983b8c59ba"
      },
      "source": [
        "def iseven(a):\n",
        "  if int(a) %2 == 0:\n",
        "    return 1\n",
        "  else:\n",
        "    return 0\n",
        "\n",
        "a = [1,2,3,4,5,6,7,8,2,3,4,5,6,10,11,13,15,17,19,20,30,40]\n",
        "b = []\n",
        "for i in range(0,len(a)):\n",
        "  if iseven(a[i]):\n",
        "    b.append(a[i])\n",
        "for i in range(0, len(b)):\n",
        "  print(b[i])"
      ],
      "execution_count": 28,
      "outputs": [
        {
          "output_type": "stream",
          "text": [
            "2\n",
            "4\n",
            "6\n",
            "8\n",
            "2\n",
            "4\n",
            "6\n",
            "10\n",
            "20\n",
            "30\n",
            "40\n"
          ],
          "name": "stdout"
        }
      ]
    },
    {
      "cell_type": "markdown",
      "metadata": {
        "id": "kquI-EsfSkxf",
        "colab_type": "text"
      },
      "source": [
        "KAMEN NOZHNITSI BUMAGA (3)"
      ]
    },
    {
      "cell_type": "code",
      "metadata": {
        "id": "85Qym4UASlWr",
        "colab_type": "code",
        "colab": {
          "base_uri": "https://localhost:8080/",
          "height": 102
        },
        "outputId": "63121d27-90a7-445a-93da-52b43091a4f8"
      },
      "source": [
        "def figurivchisla(a):\n",
        "  if a == \"K\":\n",
        "    return 1\n",
        "  if a == \"N\":\n",
        "    return 2\n",
        "  if a == \"B\":\n",
        "    return 3\n",
        "  return 0\n",
        "print(\"player1:\")\n",
        "p1 = figurivchisla(str(input()))\n",
        "print(\"player2\")\n",
        "p2 = figurivchisla(str(input()))\n",
        "a = p1-p2\n",
        "if a == 0:\n",
        "  print(\"NICHYA\")\n",
        "elif a == - 1 or a == 2:\n",
        "  print(\"PLAYER1 WINS\")\n",
        "else:\n",
        "  print(\"PLAYER2 WINS\")"
      ],
      "execution_count": 33,
      "outputs": [
        {
          "output_type": "stream",
          "text": [
            "player1:\n",
            "N\n",
            "player2\n",
            "K\n",
            "PLAYER2 WINS\n"
          ],
          "name": "stdout"
        }
      ]
    },
    {
      "cell_type": "code",
      "metadata": {
        "id": "1FkMVmwrUx-4",
        "colab_type": "code",
        "colab": {}
      },
      "source": [
        ""
      ],
      "execution_count": 0,
      "outputs": []
    }
  ]
}