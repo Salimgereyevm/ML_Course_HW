{
  "nbformat": 4,
  "nbformat_minor": 0,
  "metadata": {
    "colab": {
      "name": "Untitled2.ipynb",
      "provenance": [],
      "include_colab_link": true
    },
    "kernelspec": {
      "name": "python3",
      "display_name": "Python 3"
    }
  },
  "cells": [
    {
      "cell_type": "markdown",
      "metadata": {
        "id": "view-in-github",
        "colab_type": "text"
      },
      "source": [
        "<a href=\"https://colab.research.google.com/github/Salimgereyevm/SalimgereyevM309/blob/Hometask_1/Untitled2.ipynb\" target=\"_parent\"><img src=\"https://colab.research.google.com/assets/colab-badge.svg\" alt=\"Open In Colab\"/></a>"
      ]
    },
    {
      "cell_type": "markdown",
      "metadata": {
        "id": "TL0Wa0g7vjgA",
        "colab_type": "text"
      },
      "source": [
        "Odd or even (1)"
      ]
    },
    {
      "cell_type": "code",
      "metadata": {
        "id": "w3BGun_bv1bu",
        "colab_type": "code",
        "colab": {
          "base_uri": "https://localhost:8080/",
          "height": 71
        },
        "outputId": "c8040e9c-12bf-4674-e03d-e29695e26c20"
      },
      "source": [
        "print(\"Print your number\")\n",
        "a = int(input())\n",
        "if a % 2 == 0:\n",
        "  print(\"Even\")\n",
        "else:\n",
        "  print(\"Odd\")"
      ],
      "execution_count": 8,
      "outputs": [
        {
          "output_type": "stream",
          "text": [
            "Print your number\n",
            "5\n",
            "Odd\n"
          ],
          "name": "stdout"
        }
      ]
    },
    {
      "cell_type": "markdown",
      "metadata": {
        "id": "PZIloP6XySN3",
        "colab_type": "text"
      },
      "source": [
        "Divisors"
      ]
    },
    {
      "cell_type": "code",
      "metadata": {
        "id": "3SxUva5iyoaM",
        "colab_type": "code",
        "colab": {
          "base_uri": "https://localhost:8080/",
          "height": 125
        },
        "outputId": "6047dab3-8c9b-47ec-fc93-b664b286ccdc"
      },
      "source": [
        "print(\"Print your number\")\n",
        "a = int(input())\n",
        "for i in range(1,a+1):\n",
        "  if a % i == 0:\n",
        "    print(i)"
      ],
      "execution_count": 15,
      "outputs": [
        {
          "output_type": "stream",
          "text": [
            "Print your number\n",
            "10\n",
            "1\n",
            "2\n",
            "5\n",
            "10\n"
          ],
          "name": "stdout"
        }
      ]
    },
    {
      "cell_type": "markdown",
      "metadata": {
        "id": "cD_4C4fmzqX8",
        "colab_type": "text"
      },
      "source": [
        ""
      ]
    }
  ]
}