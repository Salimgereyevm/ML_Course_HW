{
  "nbformat": 4,
  "nbformat_minor": 0,
  "metadata": {
    "colab": {
      "name": "Task 7 - LDA.ipynb",
      "provenance": [],
      "collapsed_sections": [],
      "include_colab_link": true
    },
    "kernelspec": {
      "display_name": "Python 3",
      "language": "python",
      "name": "python3"
    },
    "language_info": {
      "codemirror_mode": {
        "name": "ipython",
        "version": 3
      },
      "file_extension": ".py",
      "mimetype": "text/x-python",
      "name": "python",
      "nbconvert_exporter": "python",
      "pygments_lexer": "ipython3",
      "version": "3.7.4"
    }
  },
  "cells": [
    {
      "cell_type": "markdown",
      "metadata": {
        "id": "view-in-github",
        "colab_type": "text"
      },
      "source": [
        "<a href=\"https://colab.research.google.com/github/Salimgereyevm/SalimgereyevM309/blob/Hometask_7/Task_7_LDA.ipynb\" target=\"_parent\"><img src=\"https://colab.research.google.com/assets/colab-badge.svg\" alt=\"Open In Colab\"/></a>"
      ]
    },
    {
      "cell_type": "markdown",
      "metadata": {
        "colab_type": "text",
        "id": "elmONJBjB1wZ"
      },
      "source": [
        "# Topic Modeling and Gibbs Sampling"
      ]
    },
    {
      "cell_type": "markdown",
      "metadata": {
        "colab_type": "text",
        "id": "ke8yIh3yC-yw"
      },
      "source": [
        "Задача: описать текст через распределение весов по некоторому фиксированному набору топиков (тегов). Например, для набора тегов Политика, Военные сражения, Спорт, Интернет, Драма представить роман \"Война и мир\" как вектор (0.3, 0.2, 0, 0, 0.5), а статью в газете про допинг в велоспорте как вектор (0.1, 0, 0.7, 0, 0.2).\n",
        "\n",
        "Для чего, например, это нужно: имея векторное представление для текстов, тексты можно сравнивать, рекомендовать похожие.\n",
        "\n",
        "Условие: даны только набор текстов и количество тем."
      ]
    },
    {
      "cell_type": "markdown",
      "metadata": {
        "colab_type": "text",
        "id": "XJdIgvb5B1wd"
      },
      "source": [
        "## Немного теории"
      ]
    },
    {
      "cell_type": "markdown",
      "metadata": {
        "colab_type": "text",
        "id": "mipLvBaZB1we"
      },
      "source": [
        "Будем представлять текст как неупорядоченный набор слов (Bag-of-words model). Предположим, что имеется K тегов и для каждого тега выбрано распределение $\\phi_k$ над списком всевозможных слов (словарем из N слов). По сути, каждое $\\phi_k$ - это вектор длины N из неотрицательных величин, в сумме дающих 1. Вектора $\\phi_k$ независимы и моделируются распредеделением Дирихле $Dir(\\beta)$. Теперь, чтобы собрать текст d из $n$ слов, будем действовать по следующей схеме:\n",
        "\n",
        "\n",
        "* выберем распредление для тегов $\\theta_d$. Вновь, $\\theta_d$ - это вектор длины K из неотрицательных величин, в сумме дающих 1. Поэтому естественно брать $\\theta_d \\sim Dir(\\theta | \\alpha)$\n",
        "\n",
        "* Для i от 1 до n:\n",
        "  * выберем тег $z_i$ согласно распределению $\\theta_d$\n",
        "  * выберем слово $w_i$ из распределения для данного тега, т.е. $w_i \\sim \\phi_{z_i}$\n",
        "  * добавляем слово $w_i$ в текст.\n",
        "\n",
        "Полученная модель называется моделью LDA (Latent Dirichlet Allocation). Описанная  схема задает совместное распределение скрытых и наблюдаемых параметров по всем текстам корпуса размера M в виде:\n",
        "\n",
        "\n",
        "$p(\\textbf{w}, \\textbf{z}, \\theta, \\phi | \\alpha, \\beta) = Dir(\\theta | \\alpha) Dir(\\phi|\\beta)Cat(\\textbf{z}|\\theta)Cat(\\textbf{w}|\\phi_z)$.\n",
        "\n",
        "Здесь $\\textbf{w}$ и $\\textbf{z}$ обозначают вектора слов и тегов по всем текстам, $\\theta$ - набор из $\\theta_d$ для каждого документа (матрица $M\\times K$), $\\phi$ - набор из $\\phi_k$ для каждого тега (матрица $K\\times N$).\n"
      ]
    },
    {
      "cell_type": "markdown",
      "metadata": {
        "colab_type": "text",
        "id": "D9yKUGWnXCYm"
      },
      "source": [
        "![img](https://www.researchgate.net/publication/336065245/figure/fig1/AS:807371718815752@1569503826964/Latent-Dirichlet-allocation-LDA-process-and-its-two-outputs-a-LDA-document.ppm)"
      ]
    },
    {
      "cell_type": "markdown",
      "metadata": {
        "colab_type": "text",
        "id": "hiXKW7NQWeO8"
      },
      "source": [
        "Наша задача - восстановить распределение $p(\\textbf{z}, \\theta, \\phi | \\textbf{w}, \\alpha, \\beta)$.\n",
        "\n",
        "\n",
        "Немного упростим жизнь, и поставим себе задачей восстановить распределение $p(\\textbf{z} | \\textbf{w}, \\alpha, \\beta) = \\int\\int p(\\textbf{z}, \\theta, \\phi | \\textbf{w}, \\alpha, \\beta)\\textrm{d}\\theta\\textrm{d}\\phi$.\n",
        "\n",
        "В этот момент на помощь приходить алгоритм Gibbs Sampling. Напомним, для оценки набора парамеров $\\textbf{z} = (z_1, z_2, ..., z_m)$ используется схема:\n",
        "\n",
        "$z_i^{(t)} \\sim p(z_i^{(t)}\\ | \\ z_1=z_1^{t}, ..., z_{i-1}=z_{i-1}^{t},\n",
        "z_{i+1}=z_{i+1}^{t-1}, z_{m}=z_{m}^{t-1})$."
      ]
    },
    {
      "cell_type": "markdown",
      "metadata": {
        "colab_type": "text",
        "id": "aQeReuG_aDI7"
      },
      "source": [
        "Условные распределения выводятся так. Сначала замечаем, что\n",
        "\n",
        "$p(z_i|\\textbf{z}_{\\hat{i}}, \\textbf{w}, \\alpha, \\beta) = \\frac{p(z_i,\\textbf{z}_{\\hat{i}}, \\textbf{w}| \\alpha, \\beta)}{p(\\textbf{z}_{\\hat{i}}, \\textbf{w}| \\alpha, \\beta)}  = \\frac{p(\\textbf{z}, \\textbf{w}| \\alpha, \\beta)}{p(\\textbf{z}_{\\hat{i}}, \\textbf{w}_{\\hat{i}}| \\alpha, \\beta)  p(w_i|\\alpha, \\beta)}$.\n",
        "\n",
        "Здесь $\\textbf{z}_{\\hat{i}}$, $\\textbf{w}_{\\hat{i}}$ - вектора без $i$-oй копмоненты. "
      ]
    },
    {
      "cell_type": "markdown",
      "metadata": {
        "colab_type": "text",
        "id": "yA0r2c_ob2c9"
      },
      "source": [
        "Далее расписываем:\n",
        "\n",
        "$p(\\textbf{z}, \\textbf{w}| \\alpha, \\beta) = \\int\\int p(\\textbf{z}, \\textbf{w}, \\theta, \\phi| \\alpha, \\beta)\\textrm{d}\\theta\\textrm{d}\\phi = \\int\\int Dir(\\theta | \\alpha) Dir(\\phi|\\beta)Cat(\\textbf{z}|\\theta)Cat(\\textbf{w}|\\phi_z)\\textrm{d}\\theta\\textrm{d}\\phi = \n",
        "\\int Dir(\\theta | \\alpha) Cat(\\textbf{z}|\\theta)\\textrm{d}\\theta \\int Dir(\\phi|\\beta)Cat(\\textbf{w}|\\phi_z)\\textrm{d}\\phi$\n",
        "\n",
        "и обнаруживаем, что оба интеграла в последнем выражении вычисляются аналитически. Для примера первый:\n",
        "\n",
        "$\\int Dir(\\theta | \\alpha) Cat(\\textbf{z}|\\theta)\\textrm{d}\\theta = \\prod\\limits_d \\int Dir(\\theta_d | \\alpha) Cat(\\textbf{z}_d|\\theta_d)\\textrm{d}\\theta_d = \\prod\\limits_d \\int \\frac{1}{B(\\alpha)}\\prod\\limits_k \\theta_{d, k}^{\\alpha-1}\\prod\\limits_i \\theta_{d, z_i}\\textrm{d}\\theta_d = \\prod\\limits_d\\frac{1}{B(\\alpha)}\\int\\prod\\limits_k \\theta_{d, k}^{n_{d, k} + \\alpha - 1}\\textrm{d}\\theta_d = \\prod\\limits_d \\frac{B(n_{d,\\cdot} + \\alpha)}{B(\\alpha)}$.\n",
        "\n",
        "Здесь  $n_{d,k}$ - количество тэгов $k$ в тексте $d$, $n_{d,\\cdot}$ - вектор длины $K$ из этих величин.\n",
        "\n",
        "Аналогично, второй интеграл \n",
        "$\\int Dir(\\phi|\\beta)Cat(\\textbf{w}|\\phi_z)\\textrm{d}\\phi = \\prod\\limits_k \\frac{B(n_{k,\\cdot} + \\beta)}{B(\\beta)}$,\n",
        "\n",
        "где $n_{k,\\cdot}$ - вектор длины $N$ встречаемости слов внутри тэга $k$.\n",
        "\n",
        "Получаем: \n",
        "\n",
        "$p(\\textbf{z}, \\textbf{w}| \\alpha, \\beta) = \\prod\\limits_d \\frac{B(n_{d,\\cdot} + \\alpha)}{B(\\alpha)} \\prod\\limits_k \\frac{B(n_{k,\\cdot} + \\beta)}{B(\\beta)}$.\n",
        "\n",
        "Теперь\n",
        "$p(z_i|\\textbf{z}_{\\hat{i}}, \\textbf{w}, \\alpha, \\beta) \\propto \\prod\\limits_d \\frac{B(n_{d,\\cdot} + \\alpha)}{B(n_{d,\\cdot}^{\\hat{i}} + \\alpha)} \\prod\\limits_k \\frac{B(n_{k,\\cdot} + \\beta)}{B(n_{k,\\cdot}^{\\hat{i}} + \\beta)}$.\n",
        "\n",
        "Знак $\\propto$ означает пропорциональность с точностью до общего множителя $p(w_i|\\alpha, \\beta)$. Векторы $n_{d,\\cdot}^{\\hat{i}}$ и $n_{k,\\cdot}^{\\hat{i}}$ получены из векторов $n_{d,\\cdot}$ и $n_{k,\\cdot}$ после выбрасывания $z_i$. \n",
        "\n",
        "Выражение упрощается дальше, расписывая бета-функцию через гамма-функции. Напомним,\n",
        "$B(x_1, ..., x_m) = \\frac{\\Gamma(x_1)\\cdot...\\cdot\\Gamma(x_m)}{\\Gamma(x_1 + ... + x_m)}$, а также $\\Gamma(n) = (n-1)\\Gamma(n-1)$. Получим:\n",
        "\n",
        "$p(z_i=k |\\textbf{z}_{\\hat{i}}, \\textbf{w}, \\alpha, \\beta) \\propto (n_{d_i, k}^{\\hat{i}} + \\alpha_k) \\frac{n_{k, w_i}^{\\hat{i}} + \\beta_{w_i}}{\\sum\\limits_{w}(n_{k, w}^{\\hat{i}} + \\beta_{w})}$.\n"
      ]
    },
    {
      "cell_type": "markdown",
      "metadata": {
        "colab_type": "text",
        "id": "NiYEQ_IkZUim"
      },
      "source": [
        "С этого места можно полностью собрать алгоритм моделирования плотности $p(\\textbf{z}| \\textbf{w}, \\alpha, \\beta)$. Введем  обозначение $n_k$ - количество слов, отнесенных к тегу $k$, $W$ - общее количество слов в корпусе, $\\beta_{sum} = \\sum\\limits_w\\beta_w$\n",
        "\n",
        "Алгоритм:\n",
        "\n",
        "* заведем счетчики $n_{k, w}$, $n_{d, k}$, $n_k$\n",
        "* случайным образом расставим теги словам, обновим счетчики $n_{k, w}$, $n_{d, k}$, $n_k$\n",
        "* пока не сойдемся к стационарному режиму:\n",
        "  * для каждого $i$ от 1 до $W$:\n",
        "      * для каждого $k$ от 1 до $K$:\n",
        "        * $I = I\\{z_i = k\\}$ (индикатор)\n",
        "        * вычисляем $p_k = (n_{d_i, k} + \\alpha_k - I) \\frac{n_{k, w_i} + \\beta_{w_i} - I}{n_k + \\beta_{sum} - I}$\n",
        "      * сэмплим новый $z_i$ из полученного распределения $(p_1, ..., p_K)$\n",
        "      * обновляем счетчики для учета обновленого значения $z_i$\n",
        "\n",
        "На практике удобно реализовавать так:\n",
        "\n",
        "* заведем счетчики $n_{k, w}$, $n_{d, k}$, $n_k$, заполненные нулями\n",
        "* случайным образом расставим теги словам, обновим счетчики $n_{k, w}$, $n_{d, k}$, $n_k$\n",
        "* пока не сойдемся к стационарному режиму:\n",
        "  * для каждого $i$ от 1 до $W$:\n",
        "      * $n_{d_i, z_i} \\mathrel{-}= 1$, $n_{z_i, w_i} \\mathrel{-}= 1$, $n_{z_i} \\mathrel{-}= 1$\n",
        "      * для каждого $k$ от 1 до $K$:\n",
        "        * вычисляем $p_k = (n_{d, k} + \\alpha_k) \\frac{n_{k, w_i} + \\beta_{w_i}}{n_k + \\beta_{sum}}$\n",
        "      * сэмплим новый $z_i$ из полученного распределения $(p_1, ..., p_K)$\n",
        "      * $n_{d_i, z_i} \\mathrel{+}= 1$, $n_{z_i, w_i} \\mathrel{+}= 1$, $n_{z_i} \\mathrel{+}= 1$\n",
        "\n",
        "\n",
        "\n"
      ]
    },
    {
      "cell_type": "markdown",
      "metadata": {
        "colab_type": "text",
        "id": "eaV85RF1gd6l"
      },
      "source": [
        "Восстановив распредление для $\\textbf{z}$, можем оценить $\\theta$ и $\\phi$, о которых мы ненадолго забыли. Оценить можно, например, через матожидание по апостериорным распределениям. Получите формулы самостоятельно!"
      ]
    },
    {
      "cell_type": "markdown",
      "metadata": {
        "colab_type": "text",
        "id": "K13WQakft3kk"
      },
      "source": [
        "Литература:\n",
        "\n",
        "http://u.cs.biu.ac.il/~89-680/darling-lda.pdf\n",
        "\n",
        "https://www.cs.cmu.edu/~mgormley/courses/10701-f16/slides/lecture20-topic-models.pdf"
      ]
    },
    {
      "cell_type": "markdown",
      "metadata": {
        "colab_type": "text",
        "id": "S1M8TVaPiIwd"
      },
      "source": [
        "Перейдем к практике."
      ]
    },
    {
      "cell_type": "markdown",
      "metadata": {
        "colab_type": "text",
        "id": "KKGHWSSiB1we"
      },
      "source": [
        "## Датасет\n",
        "\n",
        "Возьмем популярный датасет [20 Newsgroups](http://qwone.com/~jason/20Newsgroups/), встроенный в пакет ```sklearn```. Датасет состоит из ~20К текстов, классифицированных на 20 категорий. Датасет разбит на ```train``` и ```test```. Для загрузки используем  модуль ```fetch_20newsgroups```, в параметрах указать, что мета информацию о тексте загружать не нужно:"
      ]
    },
    {
      "cell_type": "code",
      "metadata": {
        "colab_type": "code",
        "id": "ghK1srgpB1wf",
        "outputId": "03cc63ac-cd69-4d61-e4b4-f32b539456c3",
        "colab": {
          "base_uri": "https://localhost:8080/",
          "height": 53
        }
      },
      "source": [
        "import numpy as np\n",
        "from sklearn.datasets import fetch_20newsgroups\n",
        "\n",
        "newsgroups_train = fetch_20newsgroups(subset='train', remove=('headers', 'footers', 'quotes'))"
      ],
      "execution_count": 0,
      "outputs": [
        {
          "output_type": "stream",
          "text": [
            "Downloading 20news dataset. This may take a few minutes.\n",
            "Downloading dataset from https://ndownloader.figshare.com/files/5975967 (14 MB)\n"
          ],
          "name": "stderr"
        }
      ]
    },
    {
      "cell_type": "markdown",
      "metadata": {
        "colab_type": "text",
        "id": "_BSEchmRB1wh"
      },
      "source": [
        "Выведем список категорий текстов:"
      ]
    },
    {
      "cell_type": "code",
      "metadata": {
        "colab_type": "code",
        "id": "lR3knXluB1wi",
        "outputId": "5a511959-cb81-476a-e801-445e2e5c2af0",
        "colab": {
          "base_uri": "https://localhost:8080/",
          "height": 377
        }
      },
      "source": [
        "newsgroups_train.target_names"
      ],
      "execution_count": 0,
      "outputs": [
        {
          "output_type": "execute_result",
          "data": {
            "text/plain": [
              "['alt.atheism',\n",
              " 'comp.graphics',\n",
              " 'comp.os.ms-windows.misc',\n",
              " 'comp.sys.ibm.pc.hardware',\n",
              " 'comp.sys.mac.hardware',\n",
              " 'comp.windows.x',\n",
              " 'misc.forsale',\n",
              " 'rec.autos',\n",
              " 'rec.motorcycles',\n",
              " 'rec.sport.baseball',\n",
              " 'rec.sport.hockey',\n",
              " 'sci.crypt',\n",
              " 'sci.electronics',\n",
              " 'sci.med',\n",
              " 'sci.space',\n",
              " 'soc.religion.christian',\n",
              " 'talk.politics.guns',\n",
              " 'talk.politics.mideast',\n",
              " 'talk.politics.misc',\n",
              " 'talk.religion.misc']"
            ]
          },
          "metadata": {
            "tags": []
          },
          "execution_count": 4
        }
      ]
    },
    {
      "cell_type": "markdown",
      "metadata": {
        "colab_type": "text",
        "id": "unhqlZciB1wl"
      },
      "source": [
        "Атрибут ```traget``` хранит номера категорий для текстов из обучающей выборки:"
      ]
    },
    {
      "cell_type": "code",
      "metadata": {
        "colab_type": "code",
        "id": "PNjAq0D4B1wl",
        "outputId": "07072d78-aed1-4c6a-d0cd-da1375aad1fe",
        "colab": {
          "base_uri": "https://localhost:8080/",
          "height": 35
        }
      },
      "source": [
        "newsgroups_train.target[:10]"
      ],
      "execution_count": 0,
      "outputs": [
        {
          "output_type": "execute_result",
          "data": {
            "text/plain": [
              "array([ 7,  4,  4,  1, 14, 16, 13,  3,  2,  4])"
            ]
          },
          "metadata": {
            "tags": []
          },
          "execution_count": 5
        }
      ]
    },
    {
      "cell_type": "markdown",
      "metadata": {
        "colab_type": "text",
        "id": "OjzuWGdBB1wp"
      },
      "source": [
        "Доступ к самим текстам через атрибут ```data```. Выведем текст и категорию случайного примера из обучающего датасета:"
      ]
    },
    {
      "cell_type": "code",
      "metadata": {
        "colab_type": "code",
        "id": "etlhxjk0B1wq",
        "outputId": "e0cdf910-d482-4da9-9ae2-806be8437ea9",
        "colab": {
          "base_uri": "https://localhost:8080/",
          "height": 269
        }
      },
      "source": [
        "n = 854\n",
        "print('Topic = {0}\\n'.format(newsgroups_train.target_names[newsgroups_train.target[n]]))\n",
        "print(newsgroups_train.data[n])"
      ],
      "execution_count": 0,
      "outputs": [
        {
          "output_type": "stream",
          "text": [
            "Topic = rec.motorcycles\n",
            "\n",
            "hey... I'm pretty new to the wonderful world of motorcycles... I just\n",
            "bought\n",
            "a used 81 Kaw KZ650 CSR from a friend.... I was just wondering what kind of\n",
            "\n",
            "saddle bags I could get for it (since I know nothing about them)  are there\n",
            "bags for the gas tank?  how much would some cost, and how much do they\n",
            "hold?\n",
            "thanks for your advice!!!  I may be new to riding, but I love it\n",
            "already!!!!\n",
            ":)\n",
            "\n",
            "\n"
          ],
          "name": "stdout"
        }
      ]
    },
    {
      "cell_type": "markdown",
      "metadata": {
        "colab_type": "text",
        "id": "fLheZ8pTB1wx"
      },
      "source": [
        "## Векторное представление текста\n",
        "\n",
        "Представим текст как вектор индикаторов вхождений слов из некоторого словаря в текст. Это простейшая модель BOF. \n",
        "\n",
        "Сформируем словарь на основе нашего набора текстов. Для этого используем модуль ```CountVectorizer```:"
      ]
    },
    {
      "cell_type": "code",
      "metadata": {
        "colab_type": "code",
        "id": "-eXBAq3SB1wy",
        "outputId": "ea5f094c-2d1a-4846-bf71-c884149a0c44",
        "colab": {
          "base_uri": "https://localhost:8080/",
          "height": 269
        }
      },
      "source": [
        "from sklearn.feature_extraction.text import CountVectorizer\n",
        "from sklearn.feature_extraction.stop_words import ENGLISH_STOP_WORDS\n",
        "\n",
        "vectorizer = CountVectorizer(lowercase=True, stop_words=ENGLISH_STOP_WORDS,\n",
        "                             analyzer='word', binary=True, min_df=8, max_df=.04)\n",
        "vectorizer.fit(newsgroups_train.data)"
      ],
      "execution_count": 0,
      "outputs": [
        {
          "output_type": "execute_result",
          "data": {
            "text/plain": [
              "CountVectorizer(analyzer='word', binary=True, decode_error='strict',\n",
              "                dtype=<class 'numpy.int64'>, encoding='utf-8', input='content',\n",
              "                lowercase=True, max_df=0.04, max_features=None, min_df=8,\n",
              "                ngram_range=(1, 1), preprocessor=None,\n",
              "                stop_words=frozenset({'a', 'about', 'above', 'across', 'after',\n",
              "                                      'afterwards', 'again', 'against', 'all',\n",
              "                                      'almost', 'alone', 'along', 'already',\n",
              "                                      'also', 'although', 'always', 'am',\n",
              "                                      'among', 'amongst', 'amoungst', 'amount',\n",
              "                                      'an', 'and', 'another', 'any', 'anyhow',\n",
              "                                      'anyone', 'anything', 'anyway',\n",
              "                                      'anywhere', ...}),\n",
              "                strip_accents=None, token_pattern='(?u)\\\\b\\\\w\\\\w+\\\\b',\n",
              "                tokenizer=None, vocabulary=None)"
            ]
          },
          "metadata": {
            "tags": []
          },
          "execution_count": 7
        }
      ]
    },
    {
      "cell_type": "markdown",
      "metadata": {
        "colab_type": "text",
        "id": "WYt0K78cB1w0"
      },
      "source": [
        "Количество проиндексированных слов:"
      ]
    },
    {
      "cell_type": "code",
      "metadata": {
        "colab_type": "code",
        "id": "RjjRR9cTB1w1",
        "outputId": "b9ba5b21-e40b-478e-9096-259b497a98c8",
        "colab": {
          "base_uri": "https://localhost:8080/",
          "height": 35
        }
      },
      "source": [
        "len(vectorizer.vocabulary_)"
      ],
      "execution_count": 0,
      "outputs": [
        {
          "output_type": "execute_result",
          "data": {
            "text/plain": [
              "12306"
            ]
          },
          "metadata": {
            "tags": []
          },
          "execution_count": 8
        }
      ]
    },
    {
      "cell_type": "markdown",
      "metadata": {
        "colab_type": "text",
        "id": "rDTu6nCHB1xJ"
      },
      "source": [
        "Проиндексированные слова и их индексы:"
      ]
    },
    {
      "cell_type": "code",
      "metadata": {
        "colab_type": "code",
        "id": "0TRxTcoeB1xK",
        "outputId": "f7ca45db-8f5f-45c7-9ecd-6e363676cc7d",
        "colab": {
          "base_uri": "https://localhost:8080/",
          "height": 1000
        }
      },
      "source": [
        "vectorizer.vocabulary_"
      ],
      "execution_count": 0,
      "outputs": [
        {
          "output_type": "execute_result",
          "data": {
            "text/plain": [
              "{'wondering': 12090,\n",
              " 'enlighten': 4311,\n",
              " 'car': 2365,\n",
              " 'saw': 9812,\n",
              " 'door': 3971,\n",
              " 'sports': 10472,\n",
              " 'looked': 6855,\n",
              " 'late': 6603,\n",
              " '60s': 690,\n",
              " 'early': 4106,\n",
              " '70s': 762,\n",
              " 'doors': 3972,\n",
              " 'small': 10300,\n",
              " 'addition': 1076,\n",
              " 'bumper': 2229,\n",
              " 'separate': 9995,\n",
              " 'rest': 9464,\n",
              " 'body': 2035,\n",
              " 'model': 7367,\n",
              " 'engine': 4295,\n",
              " 'specs': 10430,\n",
              " 'production': 8752,\n",
              " 'history': 5590,\n",
              " 'info': 5989,\n",
              " 'fair': 4640,\n",
              " 'brave': 2127,\n",
              " 'souls': 10382,\n",
              " 'upgraded': 11600,\n",
              " 'si': 10160,\n",
              " 'clock': 2698,\n",
              " 'oscillator': 8008,\n",
              " 'shared': 10072,\n",
              " 'experiences': 4530,\n",
              " 'poll': 8508,\n",
              " 'brief': 2154,\n",
              " 'message': 7216,\n",
              " 'detailing': 3694,\n",
              " 'procedure': 8730,\n",
              " 'speed': 10436,\n",
              " 'cpu': 3268,\n",
              " 'rated': 9094,\n",
              " 'add': 1072,\n",
              " 'cards': 2373,\n",
              " 'adapters': 1069,\n",
              " 'heat': 5511,\n",
              " 'sinks': 10221,\n",
              " 'hour': 5683,\n",
              " 'usage': 11624,\n",
              " 'floppy': 4862,\n",
              " 'disk': 3863,\n",
              " 'functionality': 5042,\n",
              " '800': 801,\n",
              " 'floppies': 4861,\n",
              " 'especially': 4393,\n",
              " 'requested': 9404,\n",
              " 'summarizing': 10766,\n",
              " 'days': 3476,\n",
              " 'network': 7652,\n",
              " 'knowledge': 6516,\n",
              " 'base': 1794,\n",
              " 'upgrade': 11599,\n",
              " 'haven': 5474,\n",
              " 'answered': 1367,\n",
              " 'folks': 4887,\n",
              " 'mac': 6946,\n",
              " 'plus': 8471,\n",
              " 'finally': 4783,\n",
              " 'gave': 5110,\n",
              " 'ghost': 5179,\n",
              " 'weekend': 11967,\n",
              " 'starting': 10538,\n",
              " '512k': 631,\n",
              " '1985': 228,\n",
              " 'market': 7055,\n",
              " 'machine': 6949,\n",
              " 'sooner': 10373,\n",
              " 'intended': 6106,\n",
              " 'picking': 8369,\n",
              " 'powerbook': 8577,\n",
              " '160': 125,\n",
              " '180': 153,\n",
              " 'bunch': 2230,\n",
              " 'questions': 8997,\n",
              " 'hopefully': 5652,\n",
              " 'somebody': 10363,\n",
              " 'answer': 1366,\n",
              " 'anybody': 1378,\n",
              " 'dirt': 3800,\n",
              " 'round': 9662,\n",
              " 'expected': 4520,\n",
              " 'supposed': 10805,\n",
              " 'summer': 10768,\n",
              " 'anymore': 1379,\n",
              " 'access': 991,\n",
              " 'rumors': 9706,\n",
              " 'price': 8683,\n",
              " 'drops': 4044,\n",
              " 'ones': 7913,\n",
              " 'duo': 4074,\n",
              " 'went': 11981,\n",
              " 'recently': 9169,\n",
              " 'impression': 5878,\n",
              " 'display': 3872,\n",
              " 'swing': 10866,\n",
              " '80mb': 811,\n",
              " '120': 70,\n",
              " 'feel': 4726,\n",
              " 'yea': 12236,\n",
              " 'looks': 6856,\n",
              " 'store': 10617,\n",
              " 'wow': 12130,\n",
              " 'opinions': 7940,\n",
              " 'worth': 12122,\n",
              " 'taking': 10929,\n",
              " 'size': 10239,\n",
              " 'money': 7400,\n",
              " 'hit': 5591,\n",
              " 'active': 1053,\n",
              " 'realize': 9140,\n",
              " 'subjective': 10699,\n",
              " 'played': 8450,\n",
              " 'machines': 6951,\n",
              " 'computer': 2928,\n",
              " 'figured': 4765,\n",
              " 'uses': 11633,\n",
              " 'daily': 3426,\n",
              " 'prove': 8854,\n",
              " 'helpful': 5536,\n",
              " 'perform': 8276,\n",
              " 'advance': 1120,\n",
              " 'summary': 10767,\n",
              " 'news': 7666,\n",
              " 'reading': 9129,\n",
              " 'premium': 8635,\n",
              " 'finals': 4784,\n",
              " 'corner': 3198,\n",
              " 'tom': 11203,\n",
              " 'willis': 12021,\n",
              " 'ecn': 4129,\n",
              " 'purdue': 8921,\n",
              " 'electrical': 4192,\n",
              " 'engineering': 4298,\n",
              " 'weitek': 11976,\n",
              " 'address': 1082,\n",
              " 'phone': 8347,\n",
              " 'chip': 2573,\n",
              " 'article': 1519,\n",
              " 'std': 10563,\n",
              " 'baker': 1757,\n",
              " 'understanding': 11518,\n",
              " 'errors': 4378,\n",
              " 'basically': 1802,\n",
              " 'known': 6518,\n",
              " 'bugs': 2212,\n",
              " 'warning': 11904,\n",
              " 'checked': 2544,\n",
              " 'values': 11691,\n",
              " 'aren': 1467,\n",
              " 'till': 11161,\n",
              " 'launch': 6614,\n",
              " 'fix': 4822,\n",
              " 'code': 2741,\n",
              " 'possibly': 8554,\n",
              " 'introduce': 6173,\n",
              " 'crew': 3304,\n",
              " 'ok': 7898,\n",
              " '213': 298,\n",
              " 'liftoff': 6755,\n",
              " 'ignore': 5794,\n",
              " 'term': 11038,\n",
              " 'defined': 3567,\n",
              " 'doubt': 3985,\n",
              " 'quote': 9010,\n",
              " 'allegedly': 1247,\n",
              " 'presenting': 8651,\n",
              " 'argument': 1478,\n",
              " 'weapons': 11953,\n",
              " 'mass': 7080,\n",
              " 'destruction': 3690,\n",
              " 'commonly': 2839,\n",
              " 'understood': 11520,\n",
              " 'switching': 10871,\n",
              " 'topics': 11220,\n",
              " 'evidently': 4443,\n",
              " 'allowed': 1260,\n",
              " 'later': 6605,\n",
              " 'analysis': 1318,\n",
              " 'consider': 3032,\n",
              " 'class': 2659,\n",
              " 'responded': 9456,\n",
              " 'request': 9403,\n",
              " 'treatment': 11333,\n",
              " 'couldn': 3231,\n",
              " 'thank': 11077,\n",
              " 'directly': 3795,\n",
              " 'bouncing': 2094,\n",
              " 'sean': 9903,\n",
              " 'sharon': 10077,\n",
              " 'publicly': 8893,\n",
              " 'glad': 5200,\n",
              " 'accidentally': 999,\n",
              " 'rn': 9596,\n",
              " 'instead': 6071,\n",
              " 'rm': 9595,\n",
              " 'delete': 3583,\n",
              " 'file': 4769,\n",
              " 'september': 10002,\n",
              " 'hmmm': 5603,\n",
              " 'shows': 10153,\n",
              " 'scsi': 9890,\n",
              " 'controler': 3128,\n",
              " 'range': 9073,\n",
              " '5mb': 673,\n",
              " 'controller': 3130,\n",
              " '6mb': 743,\n",
              " '10mb': 53,\n",
              " 'burst': 2246,\n",
              " 'note': 7738,\n",
              " 'increase': 5923,\n",
              " 'quadra': 8971,\n",
              " 'version': 11744,\n",
              " 'exist': 4499,\n",
              " 'pc': 8232,\n",
              " 'mode': 7366,\n",
              " '16': 124,\n",
              " 'wide': 12004,\n",
              " 'fast': 4678,\n",
              " '12mb': 84,\n",
              " '20mb': 291,\n",
              " '32': 441,\n",
              " '40mb': 552,\n",
              " 'twice': 11420,\n",
              " 'esdi': 4390,\n",
              " 'correct': 3208,\n",
              " 'reach': 9115,\n",
              " 'faster': 4679,\n",
              " 'ide': 5766,\n",
              " '96': 872,\n",
              " 'facts': 4629,\n",
              " 'posted': 8557,\n",
              " 'newsgroup': 7667,\n",
              " 'ibm': 5754,\n",
              " 'sheet': 10087,\n",
              " 'ftp': 5026,\n",
              " 'sumex': 10760,\n",
              " 'aim': 1202,\n",
              " 'stanford': 10531,\n",
              " '36': 485,\n",
              " '44': 571,\n",
              " 'report': 9378,\n",
              " 'compare': 2860,\n",
              " 'txt': 11427,\n",
              " '173': 144,\n",
              " '161': 127,\n",
              " 'documented': 3941,\n",
              " 'apple': 1414,\n",
              " 'maximum': 7114,\n",
              " 'synchronous': 10888,\n",
              " 'slower': 10294,\n",
              " 'interface': 6129,\n",
              " 'driven': 4034,\n",
              " 'win': 12023,\n",
              " 'downloaded': 3991,\n",
              " 'icons': 5760,\n",
              " 'bmp': 2020,\n",
              " 'figure': 4764,\n",
              " 'change': 2500,\n",
              " 'wallpaper': 11888,\n",
              " 'appreciated': 1428,\n",
              " 'thanx': 11079,\n",
              " 'board': 2026,\n",
              " 'licensing': 6744,\n",
              " 'technologies': 10995,\n",
              " 'owners': 8058,\n",
              " 'compression': 2917,\n",
              " 'technology': 10996,\n",
              " 'writing': 12145,\n",
              " 'memory': 7191,\n",
              " 'lost': 6873,\n",
              " 'reference': 9220,\n",
              " 'fault': 4687,\n",
              " 'icon': 5759,\n",
              " 'usually': 11637,\n",
              " 'mentioned': 7198,\n",
              " 'freeware': 4995,\n",
              " 'expansion': 4516,\n",
              " 'utility': 11644,\n",
              " 'dd': 3481,\n",
              " 'expand': 4512,\n",
              " 'compressed': 2916,\n",
              " 'unless': 11556,\n",
              " 'installed': 6065,\n",
              " 'product': 8751,\n",
              " 'unlikely': 11558,\n",
              " 'holes': 5617,\n",
              " 'related': 9286,\n",
              " 'fixed': 4823,\n",
              " 'sad': 9747,\n",
              " 'reluctant': 9317,\n",
              " 'buy': 2262,\n",
              " 'hey': 5559,\n",
              " 'competition': 2879,\n",
              " '1978': 219,\n",
              " 'runs': 9710,\n",
              " 'paint': 8107,\n",
              " 'bronze': 2177,\n",
              " 'brown': 2182,\n",
              " 'orange': 7965,\n",
              " 'leaks': 6656,\n",
              " 'oil': 7895,\n",
              " 'pops': 8523,\n",
              " '1st': 269,\n",
              " 'shop': 10127,\n",
              " 'trans': 11283,\n",
              " 'leak': 6655,\n",
              " 'sold': 10346,\n",
              " 'bike': 1939,\n",
              " 'owner': 8057,\n",
              " 'thinking': 11106,\n",
              " '3k': 525,\n",
              " 'nice': 7681,\n",
              " 'stable': 10506,\n",
              " 'axis': 1713,\n",
              " 'motors': 7454,\n",
              " 'richardson': 9545,\n",
              " 'tx': 11426,\n",
              " 'org': 7978,\n",
              " 'dod': 3943,\n",
              " 'yep': 12245,\n",
              " 'jew': 6318,\n",
              " 'understand': 11516,\n",
              " 'jewish': 6319,\n",
              " 'jews': 6321,\n",
              " 'covenant': 3256,\n",
              " 'abraham': 954,\n",
              " 'moses': 7431,\n",
              " 'establishes': 4402,\n",
              " 'moral': 7420,\n",
              " 'follow': 4888,\n",
              " 'mankind': 7020,\n",
              " 'decide': 3511,\n",
              " 'boundaries': 2096,\n",
              " 'fall': 4648,\n",
              " 'believed': 1883,\n",
              " 'torah': 11224,\n",
              " 'required': 9408,\n",
              " 'pharisees': 8326,\n",
              " 'ancestors': 1323,\n",
              " 'modern': 7376,\n",
              " 'judaism': 6379,\n",
              " 'interpretation': 6149,\n",
              " 'lead': 6645,\n",
              " 'morality': 7421,\n",
              " 'essence': 4396,\n",
              " 'biblical': 1930,\n",
              " 'man': 7003,\n",
              " 'christian': 2591,\n",
              " 'necessarily': 7608,\n",
              " 'indicate': 5941,\n",
              " 'outside': 8035,\n",
              " 'relationship': 9291,\n",
              " 'speculate': 10433,\n",
              " 'trouble': 11370,\n",
              " 'created': 3290,\n",
              " 'image': 5821,\n",
              " 'conclusion': 2954,\n",
              " 'cart': 2396,\n",
              " 'wants': 11895,\n",
              " 'script': 9881,\n",
              " 'shaky': 10059,\n",
              " 'foundation': 4960,\n",
              " 'mix': 7350,\n",
              " 'living': 6813,\n",
              " 'christ': 2590,\n",
              " 'jesus': 6315,\n",
              " 'recorded': 9190,\n",
              " 'followers': 4891,\n",
              " 'references': 9222,\n",
              " 'historians': 5585,\n",
              " 'revelation': 9508,\n",
              " 'aside': 1536,\n",
              " 'hand': 5409,\n",
              " 'worse': 12119,\n",
              " 'attempt': 1623,\n",
              " 'christianity': 2592,\n",
              " 'initially': 6015,\n",
              " 'bible': 1928,\n",
              " 'interpret': 6148,\n",
              " 'humanity': 5715,\n",
              " 'guess': 5355,\n",
              " 'faith': 4644,\n",
              " 'comes': 2802,\n",
              " 'inherent': 6005,\n",
              " 'absolute': 960,\n",
              " 'multiple': 7497,\n",
              " 'codes': 2743,\n",
              " 'founded': 4962,\n",
              " 'parent': 8150,\n",
              " 'child': 2567,\n",
              " 'swear': 10856,\n",
              " 'assume': 1573,\n",
              " 'simply': 10205,\n",
              " 'told': 11198,\n",
              " 'pub': 8887,\n",
              " 'bar': 1781,\n",
              " 'children': 2570,\n",
              " 'inappropriate': 5893,\n",
              " 'happy': 5437,\n",
              " 'animals': 1342,\n",
              " 'analogy': 1316,\n",
              " 'hold': 5611,\n",
              " 'water': 11929,\n",
              " 'knows': 6519,\n",
              " 'type': 11430,\n",
              " 'incidentally': 5901,\n",
              " 'young': 12259,\n",
              " 'considers': 3039,\n",
              " 'directive': 3794,\n",
              " 'gets': 5172,\n",
              " 'older': 7902,\n",
              " 'david': 3468,\n",
              " 'religion': 9314,\n",
              " 'description': 3659,\n",
              " 'external': 4587,\n",
              " 'tank': 10944,\n",
              " 'option': 7960,\n",
              " 'ssf': 10501,\n",
              " 'redesign': 9203,\n",
              " 'deleted': 3584,\n",
              " 'yo': 12257,\n",
              " 'ken': 6445,\n",
              " 'orbiter': 7969,\n",
              " 'options': 7962,\n",
              " 'today': 11193,\n",
              " '23': 317,\n",
              " 'edition': 4143,\n",
              " 'york': 12258,\n",
              " 'reports': 9384,\n",
              " 'connor': 3017,\n",
              " 'panel': 8124,\n",
              " 'proposals': 8822,\n",
              " 'dropped': 4042,\n",
              " 'giant': 5181,\n",
              " 'fuel': 5031,\n",
              " 'tanks': 10945,\n",
              " 'launching': 6619,\n",
              " 'space': 10395,\n",
              " 'building': 2216,\n",
              " 'station': 10548,\n",
              " 'existing': 4504,\n",
              " 'shuttle': 10158,\n",
              " 'wings': 12036,\n",
              " 'tail': 10925,\n",
              " 'removed': 9342,\n",
              " 'currently': 3384,\n",
              " 'considered': 3037,\n",
              " 'presented': 8650,\n",
              " 'advisory': 1137,\n",
              " 'meeting': 7170,\n",
              " 'yesterday': 12248,\n",
              " 'reported': 9379,\n",
              " 'low': 6890,\n",
              " 'cost': 3226,\n",
              " 'modular': 7385,\n",
              " 'approach': 1429,\n",
              " 'studied': 10683,\n",
              " 'team': 10982,\n",
              " 'teams': 10983,\n",
              " 'jsc': 6375,\n",
              " 'larc': 6588,\n",
              " 'supporting': 10801,\n",
              " 'crystal': 3354,\n",
              " 'city': 2639,\n",
              " 'lerc': 6702,\n",
              " 'reston': 9469,\n",
              " 'site': 10231,\n",
              " 'locations': 6835,\n",
              " 'helping': 5537,\n",
              " 'respective': 9452,\n",
              " 'activities': 1056,\n",
              " 'key': 6454,\n",
              " 'features': 4712,\n",
              " 'bus': 2250,\n",
              " 'developed': 3713,\n",
              " 'lockheed': 6838,\n",
              " 'qualified': 8975,\n",
              " 'sts': 10677,\n",
              " 'provides': 8863,\n",
              " 'propulsion': 8829,\n",
              " 'gn': 5222,\n",
              " 'communications': 2844,\n",
              " 'management': 7006,\n",
              " 'air': 1206,\n",
              " 'force': 4912,\n",
              " 'capability': 2351,\n",
              " 'obtained': 7838,\n",
              " 'flights': 4853,\n",
              " 'solar': 10344,\n",
              " 'arrays': 1505,\n",
              " 'provide': 8858,\n",
              " 'vehicle': 11722,\n",
              " 'arrow': 1516,\n",
              " 'environment': 4342,\n",
              " 'missions': 7334,\n",
              " 'utilize': 11646,\n",
              " 'source': 10388,\n",
              " 'human': 5713,\n",
              " 'tended': 11029,\n",
              " 'opposed': 7946,\n",
              " 'achieved': 1029,\n",
              " 'common': 2838,\n",
              " 'module': 7387,\n",
              " 'modified': 7381,\n",
              " 'lab': 6547,\n",
              " 'docking': 3931,\n",
              " 'ports': 8541,\n",
              " 'added': 1073,\n",
              " 'international': 6145,\n",
              " 'partners': 8177,\n",
              " 'labs': 6555,\n",
              " 'nodes': 7710,\n",
              " '60': 681,\n",
              " 'esa': 4382,\n",
              " 'modules': 7388,\n",
              " 'permanent': 8290,\n",
              " 'presence': 8646,\n",
              " '3rd': 532,\n",
              " 'assured': 1581,\n",
              " 'return': 9497,\n",
              " 'freedom': 4990,\n",
              " 'derived': 3652,\n",
              " 'mike': 7273,\n",
              " 'griffin': 5325,\n",
              " 'alot': 1265,\n",
              " 'design': 3667,\n",
              " 'love': 6884,\n",
              " 'assumes': 1575,\n",
              " 'assembly': 1550,\n",
              " 'computed': 2927,\n",
              " '51': 628,\n",
              " 'inclination': 5903,\n",
              " 'orbit': 7967,\n",
              " 'build': 2214,\n",
              " 'occurs': 7855,\n",
              " 'initial': 6012,\n",
              " 'research': 9416,\n",
              " 'reached': 9116,\n",
              " 'transferred': 11288,\n",
              " 'visits': 11809,\n",
              " 'adopted': 1114,\n",
              " 'language': 6583,\n",
              " 'deployed': 3637,\n",
              " 'keeping': 6440,\n",
              " 'supply': 10797,\n",
              " 'tolerance': 11199,\n",
              " '14': 99,\n",
              " '2nd': 408,\n",
              " 'thermal': 11101,\n",
              " 'control': 3127,\n",
              " 'radiator': 9043,\n",
              " 'finish': 4798,\n",
              " '24': 328,\n",
              " 'systems': 10903,\n",
              " 'exception': 4463,\n",
              " 'major': 6990,\n",
              " 'changes': 2502,\n",
              " 'reduced': 9209,\n",
              " 'prices': 8685,\n",
              " 'forsale': 4943,\n",
              " 'behalf': 1869,\n",
              " 'brother': 2179,\n",
              " 'moving': 7470,\n",
              " 'moved': 7464,\n",
              " 'offer': 7875,\n",
              " 'black': 1979,\n",
              " 'portable': 8534,\n",
              " 'purchased': 8918,\n",
              " '12': 69,\n",
              " 'sr': 10495,\n",
              " '1000': 37,\n",
              " 'dual': 4060,\n",
              " 'cassette': 2403,\n",
              " 'player': 8451,\n",
              " 'fm': 4875,\n",
              " 'band': 1768,\n",
              " 'graphics': 5293,\n",
              " 'equalizer': 4358,\n",
              " 'tape': 10947,\n",
              " 'deck': 3518,\n",
              " 'sound': 10383,\n",
              " 'bet': 1916,\n",
              " '80': 800,\n",
              " '25': 343,\n",
              " 'zoom': 12299,\n",
              " 'japan': 6293,\n",
              " 'includes': 5907,\n",
              " 'accessories': 996,\n",
              " '50': 621,\n",
              " '1400': 101,\n",
              " 'hair': 5397,\n",
              " 'dryer': 4053,\n",
              " 'head': 5490,\n",
              " 'bag': 1753,\n",
              " 'leather': 6664,\n",
              " 'brand': 2123,\n",
              " 'speeds': 10439,\n",
              " 'extra': 4589,\n",
              " 'angle': 1338,\n",
              " 'spray': 10477,\n",
              " 'steam': 10569,\n",
              " 'dry': 4051,\n",
              " 'iron': 6228,\n",
              " 'contact': 3077,\n",
              " 'reply': 9376,\n",
              " 'included': 5906,\n",
              " 'lastly': 6602,\n",
              " 'reasonable': 9148,\n",
              " 'happened': 5431,\n",
              " 'japanese': 6294,\n",
              " 'citizens': 2637,\n",
              " 'war': 11896,\n",
              " 'ii': 5799,\n",
              " 'prepared': 8641,\n",
              " 'stick': 10592,\n",
              " 'concentration': 2940,\n",
              " 'camp': 2326,\n",
              " 'trial': 11344,\n",
              " 'short': 10132,\n",
              " 'step': 10578,\n",
              " 'nazis': 7584,\n",
              " 'originally': 7997,\n",
              " 'final': 4782,\n",
              " 'solution': 10357,\n",
              " 'partly': 8175,\n",
              " 'afford': 1160,\n",
              " 'camps': 2330,\n",
              " 'caused': 2425,\n",
              " 'total': 11234,\n",
              " 'weren': 11982,\n",
              " 'generally': 5133,\n",
              " 'died': 3748,\n",
              " 'disease': 3856,\n",
              " 'certainly': 2471,\n",
              " 'tiff': 11154,\n",
              " 'works': 12106,\n",
              " 'complexity': 2900,\n",
              " 'led': 6671,\n",
              " 'programs': 8775,\n",
              " 'poor': 8516,\n",
              " 'writers': 12143,\n",
              " 'making': 6996,\n",
              " 'bizarre': 1974,\n",
              " 'files': 4772,\n",
              " 'inability': 5890,\n",
              " 'load': 6821,\n",
              " 'images': 5823,\n",
              " 'save': 9805,\n",
              " 'general': 5131,\n",
              " 'environments': 4344,\n",
              " 'despite': 3683,\n",
              " 'saying': 9814,\n",
              " 'goes': 5236,\n",
              " 'worried': 12115,\n",
              " 'abuse': 970,\n",
              " 'immense': 5835,\n",
              " 'unnecessary': 11567,\n",
              " 'format': 4933,\n",
              " 'words': 12099,\n",
              " 'spec': 10413,\n",
              " 'appendix': 1411,\n",
              " 'page': 8099,\n",
              " 'emphasis': 4232,\n",
              " 'sort': 10378,\n",
              " 'success': 10726,\n",
              " 'designed': 3670,\n",
              " 'powerful': 8579,\n",
              " 'flexible': 4851,\n",
              " 'expense': 4525,\n",
              " 'simplicity': 10202,\n",
              " 'takes': 10928,\n",
              " 'effort': 4167,\n",
              " 'handle': 5416,\n",
              " 'specification': 10423,\n",
              " 'application': 1419,\n",
              " 'complete': 2895,\n",
              " 'job': 6332,\n",
              " 'import': 5866,\n",
              " 'generating': 5137,\n",
              " 'applications': 1420,\n",
              " 'deal': 3486,\n",
              " 'trapped': 11318,\n",
              " 'agrees': 1189,\n",
              " 'reasoning': 9151,\n",
              " 'asking': 1538,\n",
              " 'rates': 9095,\n",
              " 'single': 10219,\n",
              " 'male': 6999,\n",
              " 'drivers': 4036,\n",
              " 'paying': 8223,\n",
              " 'performance': 8277,\n",
              " 'cars': 2394,\n",
              " 'replies': 9375,\n",
              " 'received': 9163,\n",
              " '27': 368,\n",
              " 'close': 2702,\n",
              " '1992': 236,\n",
              " 'dodge': 3944,\n",
              " 'stealth': 10568,\n",
              " 'rt': 9687,\n",
              " 'twin': 11421,\n",
              " 'turbo': 11403,\n",
              " 'tickets': 11150,\n",
              " 'accidents': 1000,\n",
              " 'house': 5685,\n",
              " 'taken': 10926,\n",
              " 'defensive': 3562,\n",
              " 'driving': 4039,\n",
              " 'abs': 957,\n",
              " 'security': 9932,\n",
              " 'alarm': 1220,\n",
              " '1500': 113,\n",
              " '500': 622,\n",
              " 'farm': 4671,\n",
              " 'insurance': 6086,\n",
              " 'additional': 1077,\n",
              " '100': 36,\n",
              " '000': 1,\n",
              " 'policy': 8500,\n",
              " 'standard': 10524,\n",
              " '300': 421,\n",
              " 'bought': 2089,\n",
              " 'company': 2855,\n",
              " 'accident': 997,\n",
              " 'ticket': 11149,\n",
              " '11': 55,\n",
              " 'quoted': 9011,\n",
              " 'helps': 5539,\n",
              " 'steve': 10588,\n",
              " 'university': 11551,\n",
              " '45': 575,\n",
              " 'kevin': 6453,\n",
              " 'remembered': 9332,\n",
              " 'correctly': 3213,\n",
              " 'asked': 1537,\n",
              " 'similar': 10191,\n",
              " 'situation': 10235,\n",
              " 'inquiry': 6040,\n",
              " 'age': 1172,\n",
              " 'eagle': 4100,\n",
              " 'talon': 10938,\n",
              " 'record': 9189,\n",
              " 'clean': 2669,\n",
              " 'illinois': 5812,\n",
              " 'turn': 11410,\n",
              " '520': 639,\n",
              " 'higher': 5568,\n",
              " 'rate': 9093,\n",
              " 'couple': 3246,\n",
              " 'friends': 5014,\n",
              " 'pay': 8222,\n",
              " 'ins': 6042,\n",
              " 'companies': 2853,\n",
              " 'lucky': 6906,\n",
              " 'dan': 3436,\n",
              " 'mot': 7435,\n",
              " 'motorola': 7453,\n",
              " 'cellular': 2452,\n",
              " '38': 501,\n",
              " 'usa': 11621,\n",
              " 'cc': 2435,\n",
              " 'live': 6808,\n",
              " 'norman': 7725,\n",
              " 'oklahoma': 7900,\n",
              " '89': 833,\n",
              " 'sc': 9817,\n",
              " 'claim': 2649,\n",
              " 'negligent': 7622,\n",
              " 'stop': 10612,\n",
              " 'signs': 10184,\n",
              " 'radios': 9049,\n",
              " 'violations': 11790,\n",
              " '18': 152,\n",
              " 'months': 7412,\n",
              " '85': 820,\n",
              " '55': 648,\n",
              " 'failure': 4637,\n",
              " 'clear': 2674,\n",
              " 'intersection': 6157,\n",
              " 'damn': 3433,\n",
              " 'light': 6756,\n",
              " 'yellow': 12244,\n",
              " '35': 474,\n",
              " 'passive': 8193,\n",
              " 'restraint': 9475,\n",
              " 'liability': 6724,\n",
              " 'comprehensive': 2914,\n",
              " 'collision': 2773,\n",
              " 'roughly': 9661,\n",
              " '1300': 88,\n",
              " '1100': 57,\n",
              " '92': 860,\n",
              " 'lx': 6921,\n",
              " 'james': 6287,\n",
              " 'law': 6620,\n",
              " 'center': 2457,\n",
              " 'uoknor': 11592,\n",
              " 'ucs': 11457,\n",
              " 'disclaimer': 3829,\n",
              " 'engineer': 4296,\n",
              " 'play': 8448,\n",
              " 'calls': 2316,\n",
              " 'thunder': 11144,\n",
              " 'bird': 1960,\n",
              " 'hell': 5530,\n",
              " 'killing': 6479,\n",
              " 'gonna': 5241,\n",
              " '61': 691,\n",
              " 'experience': 4528,\n",
              " 'interesting': 6126,\n",
              " 'owned': 8056,\n",
              " 'toyota': 11250,\n",
              " 'gt': 5344,\n",
              " 'decided': 3512,\n",
              " 'gift': 5186,\n",
              " 'exotic': 4510,\n",
              " 'runners': 9708,\n",
              " 'supra': 10809,\n",
              " 'porsche': 8532,\n",
              " '1987': 230,\n",
              " 'liked': 6762,\n",
              " 'handling': 5421,\n",
              " 'appeal': 1401,\n",
              " 'personal': 8305,\n",
              " 'luxury': 6919,\n",
              " 'acceleration': 982,\n",
              " 'ready': 9133,\n",
              " 'buying': 2265,\n",
              " 'impulse': 5889,\n",
              " 'agent': 1177,\n",
              " 'office': 7880,\n",
              " 'happen': 5430,\n",
              " 'classification': 2663,\n",
              " 'slight': 10281,\n",
              " 'newer': 7663,\n",
              " 'lower': 6892,\n",
              " 'risk': 9578,\n",
              " 'division': 3917,\n",
              " 'continue': 3100,\n",
              " 'account': 1011,\n",
              " 'double': 3981,\n",
              " '944': 866,\n",
              " 'story': 10623,\n",
              " 'cover': 3257,\n",
              " 'cancel': 2338,\n",
              " 'sense': 9980,\n",
              " 'book': 2055,\n",
              " 'says': 9815,\n",
              " 'insure': 6087,\n",
              " 'traditional': 11270,\n",
              " 'conservative': 3030,\n",
              " 'eventually': 4437,\n",
              " 'reasons': 9152,\n",
              " 'dealer': 3487,\n",
              " 'salesman': 9766,\n",
              " 'tough': 11240,\n",
              " 'pressure': 8666,\n",
              " 'guy': 5375,\n",
              " 'room': 9644,\n",
              " 'equal': 4357,\n",
              " 'monthly': 7411,\n",
              " 'payments': 8227,\n",
              " 'longer': 6853,\n",
              " 'concluded': 2952,\n",
              " 'probability': 8724,\n",
              " 'auto': 1672,\n",
              " 'theft': 11084,\n",
              " 'entitled': 4334,\n",
              " 'opinion': 7939,\n",
              " 'oasys': 7800,\n",
              " 'dt': 4057,\n",
              " 'navy': 7581,\n",
              " 'mil': 7274,\n",
              " 'imagination': 5825,\n",
              " 'important': 5868,\n",
              " 'albert': 1225,\n",
              " 'einstein': 4179,\n",
              " 'idaho': 5765,\n",
              " '26': 358,\n",
              " 'turned': 11411,\n",
              " 'immediately': 5834,\n",
              " '460': 582,\n",
              " 'strictly': 10652,\n",
              " 'stayed': 10560,\n",
              " '150': 112,\n",
              " 'pickup': 8371,\n",
              " 'amazing': 1284,\n",
              " 'woke': 12082,\n",
              " 'felt': 4737,\n",
              " 'responsible': 9463,\n",
              " '21': 294,\n",
              " 'california': 2311,\n",
              " 'violation': 11789,\n",
              " 'alfa': 1233,\n",
              " 'spider': 10452,\n",
              " '2000': 279,\n",
              " 'bargain': 1785,\n",
              " '28': 379,\n",
              " 'vw': 11856,\n",
              " 'san': 9775,\n",
              " 'jose': 6356,\n",
              " 'vs': 11851,\n",
              " 'v6': 11674,\n",
              " '1986': 229,\n",
              " 'honda': 5638,\n",
              " 'mexico': 7239,\n",
              " 'town': 11246,\n",
              " 'nearby': 7601,\n",
              " '5x': 679,\n",
              " '2x': 418,\n",
              " 'insured': 6088,\n",
              " 'robert': 9605,\n",
              " 'stack': 10507,\n",
              " 'institute': 6072,\n",
              " 'transportation': 11316,\n",
              " 'studies': 10684,\n",
              " 'univ': 11546,\n",
              " 'uci': 11455,\n",
              " 'mazda': 7118,\n",
              " '37': 494,\n",
              " 'saturn': 9802,\n",
              " '64': 707,\n",
              " 'st': 10503,\n",
              " 'yearly': 12238,\n",
              " 'date': 3461,\n",
              " 'license': 6741,\n",
              " 'oct': 7857,\n",
              " 'residence': 9428,\n",
              " 'mountain': 7457,\n",
              " 'view': 11771,\n",
              " 'apt': 1443,\n",
              " '415': 558,\n",
              " '962': 875,\n",
              " '926': 862,\n",
              " '1200': 71,\n",
              " 'knock': 6512,\n",
              " 'wood': 12093,\n",
              " 'huge': 5705,\n",
              " 'difference': 3756,\n",
              " 'personally': 8307,\n",
              " 'towns': 11247,\n",
              " 'distance': 3882,\n",
              " 'boston': 2081,\n",
              " 'worst': 12121,\n",
              " '600': 682,\n",
              " '43': 567,\n",
              " '1990': 234,\n",
              " 'mitsubishi': 7349,\n",
              " 'eclipse': 4128,\n",
              " 'chicago': 2563,\n",
              " 'coverage': 3258,\n",
              " 'discount': 3835,\n",
              " 'miles': 7280,\n",
              " 'lived': 6809,\n",
              " '41': 554,\n",
              " '93': 863,\n",
              " 'sho': 10117,\n",
              " '287': 386,\n",
              " 'month': 7410,\n",
              " 'thats': 11080,\n",
              " '100k': 38,\n",
              " 'property': 8812,\n",
              " '250': 344,\n",
              " 'glass': 5203,\n",
              " '39': 511,\n",
              " 'seriously': 10010,\n",
              " 'ripped': 9573,\n",
              " 'listed': 6794,\n",
              " '2k': 403,\n",
              " 'calling': 2315,\n",
              " 'dealers': 3488,\n",
              " 'standardized': 10525,\n",
              " 'places': 8420,\n",
              " 'changed': 2501,\n",
              " 'maintain': 6985,\n",
              " 'careful': 2378,\n",
              " 'voltage': 11831,\n",
              " 'signal': 10175,\n",
              " 'output': 8029,\n",
              " 'preferably': 8622,\n",
              " 'factor': 4625,\n",
              " 'resulting': 9484,\n",
              " 'fed': 4716,\n",
              " 'easily': 4114,\n",
              " 'acquisition': 1043,\n",
              " 'card': 2370,\n",
              " 'circuits': 2621,\n",
              " 'simple': 10199,\n",
              " 'amplifier': 1310,\n",
              " 'practice': 8589,\n",
              " 'sufficiently': 10743,\n",
              " ...}"
            ]
          },
          "metadata": {
            "tags": []
          },
          "execution_count": 9
        }
      ]
    },
    {
      "cell_type": "markdown",
      "metadata": {
        "colab_type": "text",
        "id": "Ki7CwruhB1xN"
      },
      "source": [
        "Индекс, например, для слова anyone:"
      ]
    },
    {
      "cell_type": "code",
      "metadata": {
        "colab_type": "code",
        "id": "N2XVuQu3B1xP",
        "outputId": "b7cc8908-18ca-4b2a-c5d9-f73cc2448962",
        "colab": {
          "base_uri": "https://localhost:8080/",
          "height": 35
        }
      },
      "source": [
        "vectorizer.vocabulary_.get('car')"
      ],
      "execution_count": 0,
      "outputs": [
        {
          "output_type": "execute_result",
          "data": {
            "text/plain": [
              "2365"
            ]
          },
          "metadata": {
            "tags": []
          },
          "execution_count": 10
        }
      ]
    },
    {
      "cell_type": "markdown",
      "metadata": {
        "colab_type": "text",
        "id": "H9ckeTs2B1xT"
      },
      "source": [
        "А теперь преобразуем строку в вектор:"
      ]
    },
    {
      "cell_type": "code",
      "metadata": {
        "colab_type": "code",
        "id": "DKb4MKQBB1xU",
        "colab": {}
      },
      "source": [
        "text = 'I was wondering if anyone out there could enlighten me on this car I saw'\n",
        "x = vectorizer.transform([text])"
      ],
      "execution_count": 0,
      "outputs": []
    },
    {
      "cell_type": "markdown",
      "metadata": {
        "colab_type": "text",
        "id": "ULWh4DvrB1xX"
      },
      "source": [
        "Какой тип имеет объект, на который указывает ```x```?"
      ]
    },
    {
      "cell_type": "code",
      "metadata": {
        "colab_type": "code",
        "id": "LSi_b4mIB1xX",
        "outputId": "d704a0ed-376f-4c01-e744-4e80d6a980de",
        "colab": {
          "base_uri": "https://localhost:8080/",
          "height": 35
        }
      },
      "source": [
        "type(x)"
      ],
      "execution_count": 0,
      "outputs": [
        {
          "output_type": "execute_result",
          "data": {
            "text/plain": [
              "scipy.sparse.csr.csr_matrix"
            ]
          },
          "metadata": {
            "tags": []
          },
          "execution_count": 12
        }
      ]
    },
    {
      "cell_type": "markdown",
      "metadata": {
        "colab_type": "text",
        "id": "VdVtA7GmB1xZ"
      },
      "source": [
        "Разреженная матрица!"
      ]
    },
    {
      "cell_type": "markdown",
      "metadata": {
        "colab_type": "text",
        "id": "ugUSIc9PB1xa"
      },
      "source": [
        "### Отступление про разреженные матрицы"
      ]
    },
    {
      "cell_type": "markdown",
      "metadata": {
        "colab_type": "text",
        "id": "OB_zLEVBB1xa"
      },
      "source": [
        "Список ненулевых элементов матрицы:"
      ]
    },
    {
      "cell_type": "code",
      "metadata": {
        "colab_type": "code",
        "id": "5ygEpbSSB1xb",
        "outputId": "0077ba06-6ca3-42cf-9ecb-1ff8406b8f67",
        "colab": {
          "base_uri": "https://localhost:8080/",
          "height": 35
        }
      },
      "source": [
        "x.data"
      ],
      "execution_count": 0,
      "outputs": [
        {
          "output_type": "execute_result",
          "data": {
            "text/plain": [
              "array([1, 1, 1, 1])"
            ]
          },
          "metadata": {
            "tags": []
          },
          "execution_count": 13
        }
      ]
    },
    {
      "cell_type": "markdown",
      "metadata": {
        "colab_type": "text",
        "id": "tejzzkvFB1xd"
      },
      "source": [
        "Индексы строк и столбцов для ненулевых элементов:"
      ]
    },
    {
      "cell_type": "code",
      "metadata": {
        "colab_type": "code",
        "id": "iYlLQ9WaB1xe",
        "outputId": "8707f106-cf69-4fde-ad60-0a79f9973099",
        "colab": {
          "base_uri": "https://localhost:8080/",
          "height": 53
        }
      },
      "source": [
        "x.nonzero()"
      ],
      "execution_count": 0,
      "outputs": [
        {
          "output_type": "execute_result",
          "data": {
            "text/plain": [
              "(array([0, 0, 0, 0], dtype=int32),\n",
              " array([ 2365,  4311,  9812, 12090], dtype=int32))"
            ]
          },
          "metadata": {
            "tags": []
          },
          "execution_count": 14
        }
      ]
    },
    {
      "cell_type": "markdown",
      "metadata": {
        "colab_type": "text",
        "id": "43HhCWNTB1xg"
      },
      "source": [
        "Преобразование к объекту ndarray (именно после приведения к такому виду разреженные матрицы можно подставлять в функции, например, библиотеки Numpy):"
      ]
    },
    {
      "cell_type": "code",
      "metadata": {
        "colab_type": "code",
        "id": "1U7rGrAYB1xh",
        "outputId": "c12e3ec8-3f07-4a11-d82e-0563360935b7",
        "colab": {
          "base_uri": "https://localhost:8080/",
          "height": 35
        }
      },
      "source": [
        "x.toarray()"
      ],
      "execution_count": 0,
      "outputs": [
        {
          "output_type": "execute_result",
          "data": {
            "text/plain": [
              "array([[0, 0, 0, ..., 0, 0, 0]])"
            ]
          },
          "metadata": {
            "tags": []
          },
          "execution_count": 15
        }
      ]
    },
    {
      "cell_type": "markdown",
      "metadata": {
        "colab_type": "text",
        "id": "rNcjGOXGB1xk"
      },
      "source": [
        "Вернемся к словарю. Раскодируем вектор ```x``` в список слов:"
      ]
    },
    {
      "cell_type": "code",
      "metadata": {
        "colab_type": "code",
        "id": "_A38zVwvB1xk",
        "outputId": "4a570dc8-b6c2-43ba-d0d0-89c322936d06",
        "colab": {
          "base_uri": "https://localhost:8080/",
          "height": 35
        }
      },
      "source": [
        "vectorizer.inverse_transform(x)"
      ],
      "execution_count": 0,
      "outputs": [
        {
          "output_type": "execute_result",
          "data": {
            "text/plain": [
              "[array(['car', 'enlighten', 'saw', 'wondering'], dtype='<U79')]"
            ]
          },
          "metadata": {
            "tags": []
          },
          "execution_count": 16
        }
      ]
    },
    {
      "cell_type": "markdown",
      "metadata": {
        "colab_type": "text",
        "id": "P4TuPHK1B1xm"
      },
      "source": [
        "Пропало слово ```I```. Но дело в том, что по умолчанию ```CountVectorizer``` отбрасывает последовательности, короче 2 символов. На это указывает параметр ```token_pattern='(?u)\\\\b\\\\w\\\\w+\\\\b'```."
      ]
    },
    {
      "cell_type": "markdown",
      "metadata": {
        "colab_type": "text",
        "id": "qZYK2sG_B1xn"
      },
      "source": [
        "Переведем весь набор текстов обучающего датасета в набор векторов, получим матрицу ```X_train```:"
      ]
    },
    {
      "cell_type": "code",
      "metadata": {
        "colab_type": "code",
        "id": "Uhj_aRW7B1xn",
        "outputId": "7f896fd9-6f2e-4a43-90c4-44bb57c2d021",
        "colab": {
          "base_uri": "https://localhost:8080/",
          "height": 35
        }
      },
      "source": [
        "X_train = vectorizer.fit_transform(newsgroups_train.data)\n",
        "X_train.shape"
      ],
      "execution_count": 0,
      "outputs": [
        {
          "output_type": "execute_result",
          "data": {
            "text/plain": [
              "(11314, 12306)"
            ]
          },
          "metadata": {
            "tags": []
          },
          "execution_count": 17
        }
      ]
    },
    {
      "cell_type": "markdown",
      "metadata": {
        "colab_type": "text",
        "id": "DeYz7ZxuB1xs"
      },
      "source": [
        "О пользе разреженных матриц. Отношение числа ненулевых элементов ко всем элементам матрицы ```X_train```:"
      ]
    },
    {
      "cell_type": "code",
      "metadata": {
        "colab_type": "code",
        "id": "lkc9UFcTB1xt",
        "outputId": "aeff72db-07cb-4c91-c749-e4c5ccfda2f3",
        "colab": {
          "base_uri": "https://localhost:8080/",
          "height": 35
        }
      },
      "source": [
        "X_train.nnz / np.prod(X_train.shape)"
      ],
      "execution_count": 0,
      "outputs": [
        {
          "output_type": "execute_result",
          "data": {
            "text/plain": [
              "0.0035737319529305176"
            ]
          },
          "metadata": {
            "tags": []
          },
          "execution_count": 18
        }
      ]
    },
    {
      "cell_type": "markdown",
      "metadata": {
        "colab_type": "text",
        "id": "i9ZpBC7Sgauk"
      },
      "source": [
        "\n",
        "Задача: запустить модель LDA и Gibbs Sampling с числов тегов 20. Вывести топ-10 слов по каждому тегу. Соотнести полученные теги с тегами из датасета, сделать выводы. "
      ]
    },
    {
      "cell_type": "markdown",
      "metadata": {
        "id": "M1iBwG_BZdPg",
        "colab_type": "text"
      },
      "source": [
        "Словарь сразу оптимизирован."
      ]
    },
    {
      "cell_type": "code",
      "metadata": {
        "colab_type": "code",
        "id": "Rn_580PkLCCj",
        "colab": {}
      },
      "source": [
        "def LDA(X_train, a, b, n_top, n_iter):\n",
        "    n_k_w = np.zeros((n_top, X_train.shape[1]))\n",
        "    n_d_k = np.zeros((X_train.shape[0], n_top))\n",
        "    n_k = np.zeros(n_top)\n",
        "    docs, words = X_train.nonzero()\n",
        "    z = np.random.choice(n_top, len(docs))\n",
        "    for doc, word, k in zip(docs, words, z):\n",
        "        n_d_k[doc, k] += 1\n",
        "        n_k_w[k, word] += 1\n",
        "        n_k[k] += 1\n",
        "    for j in range(n_iter):\n",
        "        for i in range(len(docs)):\n",
        "            cur_word = words[i]\n",
        "            cur_doc = docs[i]\n",
        "            cur_topic = z[i]\n",
        "            n_d_k[cur_doc, cur_topic] -= 1\n",
        "            n_k_w[cur_topic, cur_word] -= 1\n",
        "            n_k[cur_topic] -= 1\n",
        "            p = (n_d_k[cur_doc,:]+a) * (n_k_w[:,cur_word] + b[cur_word]) / (n_k + b.sum())\n",
        "            p /= p.sum()\n",
        "            z[i] = np.random.choice(n_top, p = p)\n",
        "            n_d_k[cur_doc, z[i]] += 1\n",
        "            n_k_w[z[i], cur_word] += 1\n",
        "            n_k[z[i]] += 1    \n",
        "    return n_k_w"
      ],
      "execution_count": 0,
      "outputs": []
    },
    {
      "cell_type": "code",
      "metadata": {
        "id": "jgtFIEERZdPh",
        "colab_type": "code",
        "colab": {}
      },
      "source": [
        "n_k_w = LDA(X_train,1 * np.ones(20), 1 * np.ones(X_train.shape[1]), 20, 50)"
      ],
      "execution_count": 0,
      "outputs": []
    },
    {
      "cell_type": "code",
      "metadata": {
        "id": "vb_Tx_ytZdPh",
        "colab_type": "code",
        "outputId": "cb145f82-6cc4-4db8-afb8-62ca59bd2c6c",
        "colab": {
          "base_uri": "https://localhost:8080/",
          "height": 737
        }
      },
      "source": [
        "top_ten = np.argsort(n_k_w, axis=1)[:, :-11:-1]\n",
        "for i in range(20):\n",
        "    doc = np.zeros((1, X_train.shape[1]))\n",
        "    for word in top_ten[i]:\n",
        "        doc[0, word] = 1\n",
        "    print('Theme №{}:\\n{}'.format(i+1, '  '.join(vectorizer.inverse_transform(doc)[0])))"
      ],
      "execution_count": 0,
      "outputs": [
        {
          "output_type": "stream",
          "text": [
            "Theme №1:\n",
            "chip  clipper  encryption  key  keys  message  phone  public  secure  security\n",
            "Theme №2:\n",
            "agree  bible  christ  christian  christians  claim  jesus  man  religion  word\n",
            "Theme №3:\n",
            "asked  came  days  happened  left  saw  started  told  took  went\n",
            "Theme №4:\n",
            "advance  anybody  appreciated  card  drivers  graphics  hi  info  recently  wondering\n",
            "Theme №5:\n",
            "11  13  14  17  18  19  24  25  28  29\n",
            "Theme №6:\n",
            "1993  april  center  cost  earth  nasa  research  science  space  university\n",
            "Theme №7:\n",
            "apple  board  card  computer  disk  mac  memory  pc  ram  speed\n",
            "Theme №8:\n",
            "armenian  armenians  children  history  israel  israeli  jews  killed  turkish  war\n",
            "Theme №9:\n",
            "add  comes  david  guess  hey  interesting  net  oh  student  stuff\n",
            "Theme №10:\n",
            "banks  cause  disease  gordon  intellect  medical  pitt  skepticism  soon  surrender\n",
            "Theme №11:\n",
            "exactly  feel  guess  money  newsgroup  regards  says  small  stuff  wasn\n",
            "Theme №12:\n",
            "bike  car  cars  engine  low  miles  ride  road  speed  turn\n",
            "Theme №13:\n",
            "game  games  hockey  league  play  players  season  team  teams  win\n",
            "Theme №14:\n",
            "address  al  corp  dave  hear  internet  office  tom  uucp  uunet\n",
            "Theme №15:\n",
            "article  car  dealer  exactly  needs  replace  says  sorry  thinking  worth\n",
            "Theme №16:\n",
            "btw  figure  haven  hear  money  opinions  posted  sort  sounds  wonder\n",
            "Theme №17:\n",
            "american  control  country  gun  guns  law  laws  rights  states  weapons\n",
            "Theme №18:\n",
            "application  code  file  files  ftp  running  server  version  window  write\n",
            "Theme №19:\n",
            "00  100  asking  buy  condition  offer  price  sale  sell  shipping\n",
            "Theme №20:\n",
            "appreciate  deleted  friend  guess  news  posting  somebody  sorry  stuff  wonder\n"
          ],
          "name": "stdout"
        }
      ]
    },
    {
      "cell_type": "code",
      "metadata": {
        "id": "XUszh2F3ZdPj",
        "colab_type": "code",
        "outputId": "a5f6e452-78e1-4e57-c3f4-4875cdbf124d",
        "colab": {
          "base_uri": "https://localhost:8080/",
          "height": 377
        }
      },
      "source": [
        "newsgroups_train.target_names"
      ],
      "execution_count": 0,
      "outputs": [
        {
          "output_type": "execute_result",
          "data": {
            "text/plain": [
              "['alt.atheism',\n",
              " 'comp.graphics',\n",
              " 'comp.os.ms-windows.misc',\n",
              " 'comp.sys.ibm.pc.hardware',\n",
              " 'comp.sys.mac.hardware',\n",
              " 'comp.windows.x',\n",
              " 'misc.forsale',\n",
              " 'rec.autos',\n",
              " 'rec.motorcycles',\n",
              " 'rec.sport.baseball',\n",
              " 'rec.sport.hockey',\n",
              " 'sci.crypt',\n",
              " 'sci.electronics',\n",
              " 'sci.med',\n",
              " 'sci.space',\n",
              " 'soc.religion.christian',\n",
              " 'talk.politics.guns',\n",
              " 'talk.politics.mideast',\n",
              " 'talk.politics.misc',\n",
              " 'talk.religion.misc']"
            ]
          },
          "metadata": {
            "tags": []
          },
          "execution_count": 24
        }
      ]
    },
    {
      "cell_type": "markdown",
      "metadata": {
        "id": "ZWTb3frpZdPj",
        "colab_type": "text"
      },
      "source": [
        "Попробуем теперь сопоставить темы со словами."
      ]
    },
    {
      "cell_type": "markdown",
      "metadata": {
        "id": "ft9At4vSnHYe",
        "colab_type": "text"
      },
      "source": [
        "I - crypt. \n",
        "II - christian. \n",
        "III - ?. \n",
        "IV - graphics.\n",
        "V - baseball ?.\n",
        "VI - space.\n",
        "VII - mac.\n",
        "VIII - politics.mideast.\n",
        "IX - windows ?.\n",
        "X - sci.med.\n",
        "XI - religion.\n",
        "XII - motorcycles.\n",
        "XIII - hockey.\n",
        "XIV - electronics.\n",
        "XV - rec.autos.\n",
        "XVI - Atheism\n",
        "XVII - guns.\n",
        "XVIII - windows.x.\n",
        "XIX - forsale.\n",
        "XX - pilitics.misc."
      ]
    },
    {
      "cell_type": "markdown",
      "metadata": {
        "id": "RpgxRVTlrriv",
        "colab_type": "text"
      },
      "source": [
        "Вывод: Большинство тем хорошо угадываептся по ключевым словам. "
      ]
    }
  ]
}